{
 "cells": [
  {
   "cell_type": "markdown",
   "metadata": {},
   "source": [
    "## Wrangle, Clean and Visualize FIFA 21 Player Data"
   ]
  },
  {
   "cell_type": "markdown",
   "metadata": {},
   "source": [
    "### By Krishna Nadoor"
   ]
  },
  {
   "cell_type": "code",
   "execution_count": 1,
   "metadata": {},
   "outputs": [],
   "source": [
    "import pandas as pd\n",
    "import matplotlib.pyplot as plt\n",
    "import seaborn as sb\n",
    "import datetime\n",
    "%matplotlib inline\n",
    "\n",
    "import warnings\n",
    "warnings.filterwarnings('ignore')"
   ]
  },
  {
   "cell_type": "markdown",
   "metadata": {},
   "source": [
    "#### Step 1 - Load the Data"
   ]
  },
  {
   "cell_type": "code",
   "execution_count": 2,
   "metadata": {},
   "outputs": [
    {
     "data": {
      "text/html": [
       "<div>\n",
       "<style scoped>\n",
       "    .dataframe tbody tr th:only-of-type {\n",
       "        vertical-align: middle;\n",
       "    }\n",
       "\n",
       "    .dataframe tbody tr th {\n",
       "        vertical-align: top;\n",
       "    }\n",
       "\n",
       "    .dataframe thead th {\n",
       "        text-align: right;\n",
       "    }\n",
       "</style>\n",
       "<table border=\"1\" class=\"dataframe\">\n",
       "  <thead>\n",
       "    <tr style=\"text-align: right;\">\n",
       "      <th></th>\n",
       "      <th>ID</th>\n",
       "      <th>Name</th>\n",
       "      <th>Age</th>\n",
       "      <th>Photo</th>\n",
       "      <th>Nationality</th>\n",
       "      <th>Flag</th>\n",
       "      <th>Overall</th>\n",
       "      <th>Potential</th>\n",
       "      <th>Club</th>\n",
       "      <th>Club Logo</th>\n",
       "      <th>...</th>\n",
       "      <th>SlidingTackle</th>\n",
       "      <th>GKDiving</th>\n",
       "      <th>GKHandling</th>\n",
       "      <th>GKKicking</th>\n",
       "      <th>GKPositioning</th>\n",
       "      <th>GKReflexes</th>\n",
       "      <th>Best Position</th>\n",
       "      <th>Best Overall Rating</th>\n",
       "      <th>Release Clause</th>\n",
       "      <th>DefensiveAwareness</th>\n",
       "    </tr>\n",
       "  </thead>\n",
       "  <tbody>\n",
       "    <tr>\n",
       "      <th>194</th>\n",
       "      <td>197083</td>\n",
       "      <td>D. Caligiuri</td>\n",
       "      <td>32</td>\n",
       "      <td>https://cdn.sofifa.com/players/197/083/20_60.png</td>\n",
       "      <td>Italy</td>\n",
       "      <td>https://cdn.sofifa.com/flags/it.png</td>\n",
       "      <td>77</td>\n",
       "      <td>77</td>\n",
       "      <td>FC Augsburg</td>\n",
       "      <td>https://cdn.sofifa.com/teams/100409/light_30.png</td>\n",
       "      <td>...</td>\n",
       "      <td>68.0</td>\n",
       "      <td>12.0</td>\n",
       "      <td>10.0</td>\n",
       "      <td>13.0</td>\n",
       "      <td>6.0</td>\n",
       "      <td>14.0</td>\n",
       "      <td>RM</td>\n",
       "      <td>77.0</td>\n",
       "      <td>€12.6M</td>\n",
       "      <td>71.0</td>\n",
       "    </tr>\n",
       "    <tr>\n",
       "      <th>3050</th>\n",
       "      <td>225273</td>\n",
       "      <td>M. Thychosen</td>\n",
       "      <td>23</td>\n",
       "      <td>https://cdn.sofifa.com/players/225/273/20_60.png</td>\n",
       "      <td>Denmark</td>\n",
       "      <td>https://cdn.sofifa.com/flags/dk.png</td>\n",
       "      <td>68</td>\n",
       "      <td>74</td>\n",
       "      <td>FC Nordsjælland</td>\n",
       "      <td>https://cdn.sofifa.com/teams/1788/light_30.png</td>\n",
       "      <td>...</td>\n",
       "      <td>62.0</td>\n",
       "      <td>10.0</td>\n",
       "      <td>11.0</td>\n",
       "      <td>10.0</td>\n",
       "      <td>11.0</td>\n",
       "      <td>15.0</td>\n",
       "      <td>RM</td>\n",
       "      <td>70.0</td>\n",
       "      <td>€1.6M</td>\n",
       "      <td>59.0</td>\n",
       "    </tr>\n",
       "    <tr>\n",
       "      <th>7851</th>\n",
       "      <td>241994</td>\n",
       "      <td>Y. Toyokawa</td>\n",
       "      <td>25</td>\n",
       "      <td>https://cdn.sofifa.com/players/241/994/20_60.png</td>\n",
       "      <td>Japan</td>\n",
       "      <td>https://cdn.sofifa.com/flags/jp.png</td>\n",
       "      <td>68</td>\n",
       "      <td>71</td>\n",
       "      <td>Cerezo Osaka</td>\n",
       "      <td>https://cdn.sofifa.com/teams/101148/light_30.png</td>\n",
       "      <td>...</td>\n",
       "      <td>19.0</td>\n",
       "      <td>13.0</td>\n",
       "      <td>7.0</td>\n",
       "      <td>8.0</td>\n",
       "      <td>9.0</td>\n",
       "      <td>6.0</td>\n",
       "      <td>ST</td>\n",
       "      <td>70.0</td>\n",
       "      <td>€1.5M</td>\n",
       "      <td>19.0</td>\n",
       "    </tr>\n",
       "    <tr>\n",
       "      <th>15712</th>\n",
       "      <td>223249</td>\n",
       "      <td>G. Arias</td>\n",
       "      <td>32</td>\n",
       "      <td>https://cdn.sofifa.com/players/223/249/20_60.png</td>\n",
       "      <td>Chile</td>\n",
       "      <td>https://cdn.sofifa.com/flags/cl.png</td>\n",
       "      <td>77</td>\n",
       "      <td>77</td>\n",
       "      <td>Racing Club</td>\n",
       "      <td>https://cdn.sofifa.com/teams/101085/light_30.png</td>\n",
       "      <td>...</td>\n",
       "      <td>14.0</td>\n",
       "      <td>79.0</td>\n",
       "      <td>70.0</td>\n",
       "      <td>73.0</td>\n",
       "      <td>79.0</td>\n",
       "      <td>81.0</td>\n",
       "      <td>GK</td>\n",
       "      <td>77.0</td>\n",
       "      <td>€7.7M</td>\n",
       "      <td>10.0</td>\n",
       "    </tr>\n",
       "    <tr>\n",
       "      <th>9972</th>\n",
       "      <td>252162</td>\n",
       "      <td>A. Ueda</td>\n",
       "      <td>21</td>\n",
       "      <td>https://cdn.sofifa.com/players/252/162/20_60.png</td>\n",
       "      <td>Japan</td>\n",
       "      <td>https://cdn.sofifa.com/flags/jp.png</td>\n",
       "      <td>66</td>\n",
       "      <td>73</td>\n",
       "      <td>Kashima Antlers</td>\n",
       "      <td>https://cdn.sofifa.com/teams/101147/light_30.png</td>\n",
       "      <td>...</td>\n",
       "      <td>22.0</td>\n",
       "      <td>7.0</td>\n",
       "      <td>12.0</td>\n",
       "      <td>14.0</td>\n",
       "      <td>15.0</td>\n",
       "      <td>6.0</td>\n",
       "      <td>ST</td>\n",
       "      <td>68.0</td>\n",
       "      <td>€1.3M</td>\n",
       "      <td>22.0</td>\n",
       "    </tr>\n",
       "  </tbody>\n",
       "</table>\n",
       "<p>5 rows × 65 columns</p>\n",
       "</div>"
      ],
      "text/plain": [
       "           ID           Name  Age  \\\n",
       "194    197083   D. Caligiuri   32   \n",
       "3050   225273   M. Thychosen   23   \n",
       "7851   241994    Y. Toyokawa   25   \n",
       "15712  223249       G. Arias   32   \n",
       "9972   252162        A. Ueda   21   \n",
       "\n",
       "                                                  Photo Nationality  \\\n",
       "194    https://cdn.sofifa.com/players/197/083/20_60.png       Italy   \n",
       "3050   https://cdn.sofifa.com/players/225/273/20_60.png     Denmark   \n",
       "7851   https://cdn.sofifa.com/players/241/994/20_60.png       Japan   \n",
       "15712  https://cdn.sofifa.com/players/223/249/20_60.png       Chile   \n",
       "9972   https://cdn.sofifa.com/players/252/162/20_60.png       Japan   \n",
       "\n",
       "                                      Flag  Overall  Potential  \\\n",
       "194    https://cdn.sofifa.com/flags/it.png       77         77   \n",
       "3050   https://cdn.sofifa.com/flags/dk.png       68         74   \n",
       "7851   https://cdn.sofifa.com/flags/jp.png       68         71   \n",
       "15712  https://cdn.sofifa.com/flags/cl.png       77         77   \n",
       "9972   https://cdn.sofifa.com/flags/jp.png       66         73   \n",
       "\n",
       "                  Club                                         Club Logo  ...  \\\n",
       "194        FC Augsburg  https://cdn.sofifa.com/teams/100409/light_30.png  ...   \n",
       "3050   FC Nordsjælland    https://cdn.sofifa.com/teams/1788/light_30.png  ...   \n",
       "7851      Cerezo Osaka  https://cdn.sofifa.com/teams/101148/light_30.png  ...   \n",
       "15712      Racing Club  https://cdn.sofifa.com/teams/101085/light_30.png  ...   \n",
       "9972   Kashima Antlers  https://cdn.sofifa.com/teams/101147/light_30.png  ...   \n",
       "\n",
       "      SlidingTackle GKDiving  GKHandling GKKicking  GKPositioning  GKReflexes  \\\n",
       "194            68.0     12.0        10.0      13.0            6.0        14.0   \n",
       "3050           62.0     10.0        11.0      10.0           11.0        15.0   \n",
       "7851           19.0     13.0         7.0       8.0            9.0         6.0   \n",
       "15712          14.0     79.0        70.0      73.0           79.0        81.0   \n",
       "9972           22.0      7.0        12.0      14.0           15.0         6.0   \n",
       "\n",
       "       Best Position Best Overall Rating Release Clause DefensiveAwareness  \n",
       "194               RM                77.0         €12.6M               71.0  \n",
       "3050              RM                70.0          €1.6M               59.0  \n",
       "7851              ST                70.0          €1.5M               19.0  \n",
       "15712             GK                77.0          €7.7M               10.0  \n",
       "9972              ST                68.0          €1.3M               22.0  \n",
       "\n",
       "[5 rows x 65 columns]"
      ]
     },
     "execution_count": 2,
     "metadata": {},
     "output_type": "execute_result"
    }
   ],
   "source": [
    "# Load dataset and retrieve sample\n",
    "df = pd.read_csv('FIFA21_official_data.csv')\n",
    "df.sample(5)"
   ]
  },
  {
   "cell_type": "markdown",
   "metadata": {},
   "source": [
    "#### Step 2 -  Exploratory Data Analysis"
   ]
  },
  {
   "cell_type": "code",
   "execution_count": 3,
   "metadata": {},
   "outputs": [
    {
     "data": {
      "text/html": [
       "<div>\n",
       "<style scoped>\n",
       "    .dataframe tbody tr th:only-of-type {\n",
       "        vertical-align: middle;\n",
       "    }\n",
       "\n",
       "    .dataframe tbody tr th {\n",
       "        vertical-align: top;\n",
       "    }\n",
       "\n",
       "    .dataframe thead th {\n",
       "        text-align: right;\n",
       "    }\n",
       "</style>\n",
       "<table border=\"1\" class=\"dataframe\">\n",
       "  <thead>\n",
       "    <tr style=\"text-align: right;\">\n",
       "      <th></th>\n",
       "      <th>ID</th>\n",
       "      <th>Name</th>\n",
       "      <th>Age</th>\n",
       "      <th>Photo</th>\n",
       "      <th>Nationality</th>\n",
       "      <th>Flag</th>\n",
       "      <th>Overall</th>\n",
       "      <th>Potential</th>\n",
       "      <th>Club</th>\n",
       "      <th>Club Logo</th>\n",
       "      <th>...</th>\n",
       "      <th>SlidingTackle</th>\n",
       "      <th>GKDiving</th>\n",
       "      <th>GKHandling</th>\n",
       "      <th>GKKicking</th>\n",
       "      <th>GKPositioning</th>\n",
       "      <th>GKReflexes</th>\n",
       "      <th>Best Position</th>\n",
       "      <th>Best Overall Rating</th>\n",
       "      <th>Release Clause</th>\n",
       "      <th>DefensiveAwareness</th>\n",
       "    </tr>\n",
       "  </thead>\n",
       "  <tbody>\n",
       "    <tr>\n",
       "      <th>0</th>\n",
       "      <td>176580</td>\n",
       "      <td>L. Suárez</td>\n",
       "      <td>33</td>\n",
       "      <td>https://cdn.sofifa.com/players/176/580/20_60.png</td>\n",
       "      <td>Uruguay</td>\n",
       "      <td>https://cdn.sofifa.com/flags/uy.png</td>\n",
       "      <td>87</td>\n",
       "      <td>87</td>\n",
       "      <td>Atlético Madrid</td>\n",
       "      <td>https://cdn.sofifa.com/teams/240/light_30.png</td>\n",
       "      <td>...</td>\n",
       "      <td>38.0</td>\n",
       "      <td>27.0</td>\n",
       "      <td>25.0</td>\n",
       "      <td>31.0</td>\n",
       "      <td>33.0</td>\n",
       "      <td>37.0</td>\n",
       "      <td>ST</td>\n",
       "      <td>87.0</td>\n",
       "      <td>€64.6M</td>\n",
       "      <td>57.0</td>\n",
       "    </tr>\n",
       "    <tr>\n",
       "      <th>1</th>\n",
       "      <td>192985</td>\n",
       "      <td>K. De Bruyne</td>\n",
       "      <td>29</td>\n",
       "      <td>https://cdn.sofifa.com/players/192/985/20_60.png</td>\n",
       "      <td>Belgium</td>\n",
       "      <td>https://cdn.sofifa.com/flags/be.png</td>\n",
       "      <td>91</td>\n",
       "      <td>91</td>\n",
       "      <td>Manchester City</td>\n",
       "      <td>https://cdn.sofifa.com/teams/10/light_30.png</td>\n",
       "      <td>...</td>\n",
       "      <td>53.0</td>\n",
       "      <td>15.0</td>\n",
       "      <td>13.0</td>\n",
       "      <td>5.0</td>\n",
       "      <td>10.0</td>\n",
       "      <td>13.0</td>\n",
       "      <td>CAM</td>\n",
       "      <td>91.0</td>\n",
       "      <td>€161M</td>\n",
       "      <td>68.0</td>\n",
       "    </tr>\n",
       "    <tr>\n",
       "      <th>2</th>\n",
       "      <td>212198</td>\n",
       "      <td>Bruno Fernandes</td>\n",
       "      <td>25</td>\n",
       "      <td>https://cdn.sofifa.com/players/212/198/20_60.png</td>\n",
       "      <td>Portugal</td>\n",
       "      <td>https://cdn.sofifa.com/flags/pt.png</td>\n",
       "      <td>87</td>\n",
       "      <td>90</td>\n",
       "      <td>Manchester United</td>\n",
       "      <td>https://cdn.sofifa.com/teams/11/light_30.png</td>\n",
       "      <td>...</td>\n",
       "      <td>55.0</td>\n",
       "      <td>12.0</td>\n",
       "      <td>14.0</td>\n",
       "      <td>15.0</td>\n",
       "      <td>8.0</td>\n",
       "      <td>14.0</td>\n",
       "      <td>CAM</td>\n",
       "      <td>88.0</td>\n",
       "      <td>€124.4M</td>\n",
       "      <td>72.0</td>\n",
       "    </tr>\n",
       "    <tr>\n",
       "      <th>3</th>\n",
       "      <td>194765</td>\n",
       "      <td>A. Griezmann</td>\n",
       "      <td>29</td>\n",
       "      <td>https://cdn.sofifa.com/players/194/765/20_60.png</td>\n",
       "      <td>France</td>\n",
       "      <td>https://cdn.sofifa.com/flags/fr.png</td>\n",
       "      <td>87</td>\n",
       "      <td>87</td>\n",
       "      <td>FC Barcelona</td>\n",
       "      <td>https://cdn.sofifa.com/teams/241/light_30.png</td>\n",
       "      <td>...</td>\n",
       "      <td>49.0</td>\n",
       "      <td>14.0</td>\n",
       "      <td>8.0</td>\n",
       "      <td>14.0</td>\n",
       "      <td>13.0</td>\n",
       "      <td>14.0</td>\n",
       "      <td>ST</td>\n",
       "      <td>87.0</td>\n",
       "      <td>€103.5M</td>\n",
       "      <td>59.0</td>\n",
       "    </tr>\n",
       "    <tr>\n",
       "      <th>4</th>\n",
       "      <td>224334</td>\n",
       "      <td>M. Acuña</td>\n",
       "      <td>28</td>\n",
       "      <td>https://cdn.sofifa.com/players/224/334/20_60.png</td>\n",
       "      <td>Argentina</td>\n",
       "      <td>https://cdn.sofifa.com/flags/ar.png</td>\n",
       "      <td>83</td>\n",
       "      <td>83</td>\n",
       "      <td>Sevilla FC</td>\n",
       "      <td>https://cdn.sofifa.com/teams/481/light_30.png</td>\n",
       "      <td>...</td>\n",
       "      <td>79.0</td>\n",
       "      <td>8.0</td>\n",
       "      <td>14.0</td>\n",
       "      <td>13.0</td>\n",
       "      <td>13.0</td>\n",
       "      <td>14.0</td>\n",
       "      <td>LB</td>\n",
       "      <td>83.0</td>\n",
       "      <td>€46.2M</td>\n",
       "      <td>79.0</td>\n",
       "    </tr>\n",
       "  </tbody>\n",
       "</table>\n",
       "<p>5 rows × 65 columns</p>\n",
       "</div>"
      ],
      "text/plain": [
       "       ID              Name  Age  \\\n",
       "0  176580         L. Suárez   33   \n",
       "1  192985      K. De Bruyne   29   \n",
       "2  212198   Bruno Fernandes   25   \n",
       "3  194765      A. Griezmann   29   \n",
       "4  224334          M. Acuña   28   \n",
       "\n",
       "                                              Photo Nationality  \\\n",
       "0  https://cdn.sofifa.com/players/176/580/20_60.png     Uruguay   \n",
       "1  https://cdn.sofifa.com/players/192/985/20_60.png     Belgium   \n",
       "2  https://cdn.sofifa.com/players/212/198/20_60.png    Portugal   \n",
       "3  https://cdn.sofifa.com/players/194/765/20_60.png      France   \n",
       "4  https://cdn.sofifa.com/players/224/334/20_60.png   Argentina   \n",
       "\n",
       "                                  Flag  Overall  Potential               Club  \\\n",
       "0  https://cdn.sofifa.com/flags/uy.png       87         87    Atlético Madrid   \n",
       "1  https://cdn.sofifa.com/flags/be.png       91         91    Manchester City   \n",
       "2  https://cdn.sofifa.com/flags/pt.png       87         90  Manchester United   \n",
       "3  https://cdn.sofifa.com/flags/fr.png       87         87       FC Barcelona   \n",
       "4  https://cdn.sofifa.com/flags/ar.png       83         83         Sevilla FC   \n",
       "\n",
       "                                       Club Logo  ... SlidingTackle GKDiving  \\\n",
       "0  https://cdn.sofifa.com/teams/240/light_30.png  ...          38.0     27.0   \n",
       "1   https://cdn.sofifa.com/teams/10/light_30.png  ...          53.0     15.0   \n",
       "2   https://cdn.sofifa.com/teams/11/light_30.png  ...          55.0     12.0   \n",
       "3  https://cdn.sofifa.com/teams/241/light_30.png  ...          49.0     14.0   \n",
       "4  https://cdn.sofifa.com/teams/481/light_30.png  ...          79.0      8.0   \n",
       "\n",
       "   GKHandling GKKicking  GKPositioning  GKReflexes  Best Position  \\\n",
       "0        25.0      31.0           33.0        37.0             ST   \n",
       "1        13.0       5.0           10.0        13.0            CAM   \n",
       "2        14.0      15.0            8.0        14.0            CAM   \n",
       "3         8.0      14.0           13.0        14.0             ST   \n",
       "4        14.0      13.0           13.0        14.0             LB   \n",
       "\n",
       "  Best Overall Rating Release Clause DefensiveAwareness  \n",
       "0                87.0         €64.6M               57.0  \n",
       "1                91.0          €161M               68.0  \n",
       "2                88.0        €124.4M               72.0  \n",
       "3                87.0        €103.5M               59.0  \n",
       "4                83.0         €46.2M               79.0  \n",
       "\n",
       "[5 rows x 65 columns]"
      ]
     },
     "execution_count": 3,
     "metadata": {},
     "output_type": "execute_result"
    }
   ],
   "source": [
    "# Get Top 5\n",
    "df.head()"
   ]
  },
  {
   "cell_type": "code",
   "execution_count": 4,
   "metadata": {},
   "outputs": [
    {
     "data": {
      "text/html": [
       "<div>\n",
       "<style scoped>\n",
       "    .dataframe tbody tr th:only-of-type {\n",
       "        vertical-align: middle;\n",
       "    }\n",
       "\n",
       "    .dataframe tbody tr th {\n",
       "        vertical-align: top;\n",
       "    }\n",
       "\n",
       "    .dataframe thead th {\n",
       "        text-align: right;\n",
       "    }\n",
       "</style>\n",
       "<table border=\"1\" class=\"dataframe\">\n",
       "  <thead>\n",
       "    <tr style=\"text-align: right;\">\n",
       "      <th></th>\n",
       "      <th>ID</th>\n",
       "      <th>Name</th>\n",
       "      <th>Age</th>\n",
       "      <th>Photo</th>\n",
       "      <th>Nationality</th>\n",
       "      <th>Flag</th>\n",
       "      <th>Overall</th>\n",
       "      <th>Potential</th>\n",
       "      <th>Club</th>\n",
       "      <th>Club Logo</th>\n",
       "      <th>...</th>\n",
       "      <th>SlidingTackle</th>\n",
       "      <th>GKDiving</th>\n",
       "      <th>GKHandling</th>\n",
       "      <th>GKKicking</th>\n",
       "      <th>GKPositioning</th>\n",
       "      <th>GKReflexes</th>\n",
       "      <th>Best Position</th>\n",
       "      <th>Best Overall Rating</th>\n",
       "      <th>Release Clause</th>\n",
       "      <th>DefensiveAwareness</th>\n",
       "    </tr>\n",
       "  </thead>\n",
       "  <tbody>\n",
       "    <tr>\n",
       "      <th>17103</th>\n",
       "      <td>247866</td>\n",
       "      <td>19 C. Miszta</td>\n",
       "      <td>16</td>\n",
       "      <td>https://cdn.sofifa.com/players/247/866/19_60.png</td>\n",
       "      <td>Poland</td>\n",
       "      <td>https://cdn.sofifa.com/flags/pl.png</td>\n",
       "      <td>50</td>\n",
       "      <td>70</td>\n",
       "      <td>Legia Warszawa</td>\n",
       "      <td>https://cdn.sofifa.com/teams/1871/light_30.png</td>\n",
       "      <td>...</td>\n",
       "      <td>13.0</td>\n",
       "      <td>48.0</td>\n",
       "      <td>51.0</td>\n",
       "      <td>56.0</td>\n",
       "      <td>40.0</td>\n",
       "      <td>56.0</td>\n",
       "      <td>GK</td>\n",
       "      <td>49.0</td>\n",
       "      <td>€120K</td>\n",
       "      <td>NaN</td>\n",
       "    </tr>\n",
       "    <tr>\n",
       "      <th>17104</th>\n",
       "      <td>251433</td>\n",
       "      <td>B. Voll</td>\n",
       "      <td>19</td>\n",
       "      <td>https://cdn.sofifa.com/players/251/433/20_60.png</td>\n",
       "      <td>Germany</td>\n",
       "      <td>https://cdn.sofifa.com/flags/de.png</td>\n",
       "      <td>51</td>\n",
       "      <td>63</td>\n",
       "      <td>FC Hansa Rostock</td>\n",
       "      <td>https://cdn.sofifa.com/teams/27/light_30.png</td>\n",
       "      <td>...</td>\n",
       "      <td>10.0</td>\n",
       "      <td>52.0</td>\n",
       "      <td>55.0</td>\n",
       "      <td>52.0</td>\n",
       "      <td>42.0</td>\n",
       "      <td>57.0</td>\n",
       "      <td>GK</td>\n",
       "      <td>51.0</td>\n",
       "      <td>€83K</td>\n",
       "      <td>5.0</td>\n",
       "    </tr>\n",
       "    <tr>\n",
       "      <th>17105</th>\n",
       "      <td>252420</td>\n",
       "      <td>T. Parker</td>\n",
       "      <td>18</td>\n",
       "      <td>https://cdn.sofifa.com/players/252/420/20_60.png</td>\n",
       "      <td>Northern Ireland</td>\n",
       "      <td>https://cdn.sofifa.com/flags/gb-nir.png</td>\n",
       "      <td>51</td>\n",
       "      <td>70</td>\n",
       "      <td>Luton Town</td>\n",
       "      <td>https://cdn.sofifa.com/teams/1923/light_30.png</td>\n",
       "      <td>...</td>\n",
       "      <td>11.0</td>\n",
       "      <td>50.0</td>\n",
       "      <td>49.0</td>\n",
       "      <td>50.0</td>\n",
       "      <td>53.0</td>\n",
       "      <td>55.0</td>\n",
       "      <td>GK</td>\n",
       "      <td>51.0</td>\n",
       "      <td>€149K</td>\n",
       "      <td>8.0</td>\n",
       "    </tr>\n",
       "    <tr>\n",
       "      <th>17106</th>\n",
       "      <td>248182</td>\n",
       "      <td>H. Sveijer</td>\n",
       "      <td>18</td>\n",
       "      <td>https://cdn.sofifa.com/players/248/182/20_60.png</td>\n",
       "      <td>Sweden</td>\n",
       "      <td>https://cdn.sofifa.com/flags/se.png</td>\n",
       "      <td>49</td>\n",
       "      <td>63</td>\n",
       "      <td>IK Sirius</td>\n",
       "      <td>https://cdn.sofifa.com/teams/113458/light_30.png</td>\n",
       "      <td>...</td>\n",
       "      <td>10.0</td>\n",
       "      <td>50.0</td>\n",
       "      <td>51.0</td>\n",
       "      <td>49.0</td>\n",
       "      <td>50.0</td>\n",
       "      <td>51.0</td>\n",
       "      <td>GK</td>\n",
       "      <td>49.0</td>\n",
       "      <td>€94K</td>\n",
       "      <td>8.0</td>\n",
       "    </tr>\n",
       "    <tr>\n",
       "      <th>17107</th>\n",
       "      <td>245862</td>\n",
       "      <td>19 J. Milli</td>\n",
       "      <td>18</td>\n",
       "      <td>https://cdn.sofifa.com/players/245/862/19_60.png</td>\n",
       "      <td>Italy</td>\n",
       "      <td>https://cdn.sofifa.com/flags/it.png</td>\n",
       "      <td>47</td>\n",
       "      <td>65</td>\n",
       "      <td>Lecce</td>\n",
       "      <td>https://cdn.sofifa.com/teams/347/light_30.png</td>\n",
       "      <td>...</td>\n",
       "      <td>11.0</td>\n",
       "      <td>52.0</td>\n",
       "      <td>52.0</td>\n",
       "      <td>52.0</td>\n",
       "      <td>40.0</td>\n",
       "      <td>44.0</td>\n",
       "      <td>GK</td>\n",
       "      <td>46.0</td>\n",
       "      <td>€109K</td>\n",
       "      <td>NaN</td>\n",
       "    </tr>\n",
       "  </tbody>\n",
       "</table>\n",
       "<p>5 rows × 65 columns</p>\n",
       "</div>"
      ],
      "text/plain": [
       "           ID           Name  Age  \\\n",
       "17103  247866   19 C. Miszta   16   \n",
       "17104  251433        B. Voll   19   \n",
       "17105  252420      T. Parker   18   \n",
       "17106  248182     H. Sveijer   18   \n",
       "17107  245862    19 J. Milli   18   \n",
       "\n",
       "                                                  Photo       Nationality  \\\n",
       "17103  https://cdn.sofifa.com/players/247/866/19_60.png            Poland   \n",
       "17104  https://cdn.sofifa.com/players/251/433/20_60.png           Germany   \n",
       "17105  https://cdn.sofifa.com/players/252/420/20_60.png  Northern Ireland   \n",
       "17106  https://cdn.sofifa.com/players/248/182/20_60.png            Sweden   \n",
       "17107  https://cdn.sofifa.com/players/245/862/19_60.png             Italy   \n",
       "\n",
       "                                          Flag  Overall  Potential  \\\n",
       "17103      https://cdn.sofifa.com/flags/pl.png       50         70   \n",
       "17104      https://cdn.sofifa.com/flags/de.png       51         63   \n",
       "17105  https://cdn.sofifa.com/flags/gb-nir.png       51         70   \n",
       "17106      https://cdn.sofifa.com/flags/se.png       49         63   \n",
       "17107      https://cdn.sofifa.com/flags/it.png       47         65   \n",
       "\n",
       "                   Club                                         Club Logo  \\\n",
       "17103    Legia Warszawa    https://cdn.sofifa.com/teams/1871/light_30.png   \n",
       "17104  FC Hansa Rostock      https://cdn.sofifa.com/teams/27/light_30.png   \n",
       "17105        Luton Town    https://cdn.sofifa.com/teams/1923/light_30.png   \n",
       "17106         IK Sirius  https://cdn.sofifa.com/teams/113458/light_30.png   \n",
       "17107             Lecce     https://cdn.sofifa.com/teams/347/light_30.png   \n",
       "\n",
       "       ... SlidingTackle GKDiving  GKHandling GKKicking  GKPositioning  \\\n",
       "17103  ...          13.0     48.0        51.0      56.0           40.0   \n",
       "17104  ...          10.0     52.0        55.0      52.0           42.0   \n",
       "17105  ...          11.0     50.0        49.0      50.0           53.0   \n",
       "17106  ...          10.0     50.0        51.0      49.0           50.0   \n",
       "17107  ...          11.0     52.0        52.0      52.0           40.0   \n",
       "\n",
       "       GKReflexes  Best Position Best Overall Rating Release Clause  \\\n",
       "17103        56.0             GK                49.0          €120K   \n",
       "17104        57.0             GK                51.0           €83K   \n",
       "17105        55.0             GK                51.0          €149K   \n",
       "17106        51.0             GK                49.0           €94K   \n",
       "17107        44.0             GK                46.0          €109K   \n",
       "\n",
       "      DefensiveAwareness  \n",
       "17103                NaN  \n",
       "17104                5.0  \n",
       "17105                8.0  \n",
       "17106                8.0  \n",
       "17107                NaN  \n",
       "\n",
       "[5 rows x 65 columns]"
      ]
     },
     "execution_count": 4,
     "metadata": {},
     "output_type": "execute_result"
    }
   ],
   "source": [
    "# Get bottom 5\n",
    "df.tail()"
   ]
  },
  {
   "cell_type": "code",
   "execution_count": 5,
   "metadata": {
    "scrolled": true
   },
   "outputs": [
    {
     "name": "stdout",
     "output_type": "stream",
     "text": [
      "<class 'pandas.core.frame.DataFrame'>\n",
      "RangeIndex: 17108 entries, 0 to 17107\n",
      "Data columns (total 65 columns):\n",
      " #   Column                    Non-Null Count  Dtype  \n",
      "---  ------                    --------------  -----  \n",
      " 0   ID                        17108 non-null  int64  \n",
      " 1   Name                      17108 non-null  object \n",
      " 2   Age                       17108 non-null  int64  \n",
      " 3   Photo                     17108 non-null  object \n",
      " 4   Nationality               17108 non-null  object \n",
      " 5   Flag                      17108 non-null  object \n",
      " 6   Overall                   17108 non-null  int64  \n",
      " 7   Potential                 17108 non-null  int64  \n",
      " 8   Club                      16783 non-null  object \n",
      " 9   Club Logo                 17108 non-null  object \n",
      " 10  Value                     17108 non-null  object \n",
      " 11  Wage                      17108 non-null  object \n",
      " 12  Special                   17108 non-null  int64  \n",
      " 13  Preferred Foot            17108 non-null  object \n",
      " 14  International Reputation  17108 non-null  float64\n",
      " 15  Weak Foot                 17108 non-null  float64\n",
      " 16  Skill Moves               17108 non-null  float64\n",
      " 17  Work Rate                 17108 non-null  object \n",
      " 18  Body Type                 17083 non-null  object \n",
      " 19  Real Face                 17083 non-null  object \n",
      " 20  Position                  17088 non-null  object \n",
      " 21  Jersey Number             17088 non-null  float64\n",
      " 22  Joined                    15659 non-null  object \n",
      " 23  Loaned From               922 non-null    object \n",
      " 24  Contract Valid Until      16612 non-null  object \n",
      " 25  Height                    17108 non-null  object \n",
      " 26  Weight                    17108 non-null  object \n",
      " 27  Crossing                  17108 non-null  float64\n",
      " 28  Finishing                 17108 non-null  float64\n",
      " 29  HeadingAccuracy           17108 non-null  float64\n",
      " 30  ShortPassing              17108 non-null  float64\n",
      " 31  Volleys                   17069 non-null  float64\n",
      " 32  Dribbling                 17108 non-null  float64\n",
      " 33  Curve                     17069 non-null  float64\n",
      " 34  FKAccuracy                17108 non-null  float64\n",
      " 35  LongPassing               17108 non-null  float64\n",
      " 36  BallControl               17108 non-null  float64\n",
      " 37  Acceleration              17108 non-null  float64\n",
      " 38  SprintSpeed               17108 non-null  float64\n",
      " 39  Agility                   17069 non-null  float64\n",
      " 40  Reactions                 17108 non-null  float64\n",
      " 41  Balance                   17069 non-null  float64\n",
      " 42  ShotPower                 17108 non-null  float64\n",
      " 43  Jumping                   17069 non-null  float64\n",
      " 44  Stamina                   17108 non-null  float64\n",
      " 45  Strength                  17108 non-null  float64\n",
      " 46  LongShots                 17108 non-null  float64\n",
      " 47  Aggression                17108 non-null  float64\n",
      " 48  Interceptions             17105 non-null  float64\n",
      " 49  Positioning               17105 non-null  float64\n",
      " 50  Vision                    17069 non-null  float64\n",
      " 51  Penalties                 17108 non-null  float64\n",
      " 52  Composure                 16821 non-null  float64\n",
      " 53  Marking                   942 non-null    float64\n",
      " 54  StandingTackle            17108 non-null  float64\n",
      " 55  SlidingTackle             17069 non-null  float64\n",
      " 56  GKDiving                  17108 non-null  float64\n",
      " 57  GKHandling                17108 non-null  float64\n",
      " 58  GKKicking                 17108 non-null  float64\n",
      " 59  GKPositioning             17108 non-null  float64\n",
      " 60  GKReflexes                17108 non-null  float64\n",
      " 61  Best Position             17108 non-null  object \n",
      " 62  Best Overall Rating       17108 non-null  float64\n",
      " 63  Release Clause            15479 non-null  object \n",
      " 64  DefensiveAwareness        16166 non-null  float64\n",
      "dtypes: float64(40), int64(5), object(20)\n",
      "memory usage: 8.5+ MB\n"
     ]
    }
   ],
   "source": [
    "# Get dataset info\n",
    "df.info()"
   ]
  },
  {
   "cell_type": "code",
   "execution_count": 6,
   "metadata": {},
   "outputs": [
    {
     "data": {
      "text/html": [
       "<div>\n",
       "<style scoped>\n",
       "    .dataframe tbody tr th:only-of-type {\n",
       "        vertical-align: middle;\n",
       "    }\n",
       "\n",
       "    .dataframe tbody tr th {\n",
       "        vertical-align: top;\n",
       "    }\n",
       "\n",
       "    .dataframe thead th {\n",
       "        text-align: right;\n",
       "    }\n",
       "</style>\n",
       "<table border=\"1\" class=\"dataframe\">\n",
       "  <thead>\n",
       "    <tr style=\"text-align: right;\">\n",
       "      <th></th>\n",
       "      <th>ID</th>\n",
       "      <th>Age</th>\n",
       "      <th>Overall</th>\n",
       "      <th>Potential</th>\n",
       "      <th>Special</th>\n",
       "      <th>International Reputation</th>\n",
       "      <th>Weak Foot</th>\n",
       "      <th>Skill Moves</th>\n",
       "      <th>Jersey Number</th>\n",
       "      <th>Crossing</th>\n",
       "      <th>...</th>\n",
       "      <th>Marking</th>\n",
       "      <th>StandingTackle</th>\n",
       "      <th>SlidingTackle</th>\n",
       "      <th>GKDiving</th>\n",
       "      <th>GKHandling</th>\n",
       "      <th>GKKicking</th>\n",
       "      <th>GKPositioning</th>\n",
       "      <th>GKReflexes</th>\n",
       "      <th>Best Overall Rating</th>\n",
       "      <th>DefensiveAwareness</th>\n",
       "    </tr>\n",
       "  </thead>\n",
       "  <tbody>\n",
       "    <tr>\n",
       "      <th>count</th>\n",
       "      <td>17108.000000</td>\n",
       "      <td>17108.000000</td>\n",
       "      <td>17108.000000</td>\n",
       "      <td>17108.000000</td>\n",
       "      <td>17108.000000</td>\n",
       "      <td>17108.000000</td>\n",
       "      <td>17108.000000</td>\n",
       "      <td>17108.000000</td>\n",
       "      <td>17088.000000</td>\n",
       "      <td>17108.000000</td>\n",
       "      <td>...</td>\n",
       "      <td>942.000000</td>\n",
       "      <td>17108.000000</td>\n",
       "      <td>17069.000000</td>\n",
       "      <td>17108.000000</td>\n",
       "      <td>17108.000000</td>\n",
       "      <td>17108.000000</td>\n",
       "      <td>17108.000000</td>\n",
       "      <td>17108.000000</td>\n",
       "      <td>17108.000000</td>\n",
       "      <td>16166.000000</td>\n",
       "    </tr>\n",
       "    <tr>\n",
       "      <th>mean</th>\n",
       "      <td>221421.276187</td>\n",
       "      <td>25.053718</td>\n",
       "      <td>66.780161</td>\n",
       "      <td>72.553542</td>\n",
       "      <td>1625.722995</td>\n",
       "      <td>1.147533</td>\n",
       "      <td>2.981938</td>\n",
       "      <td>2.446107</td>\n",
       "      <td>20.756145</td>\n",
       "      <td>51.360065</td>\n",
       "      <td>...</td>\n",
       "      <td>46.403397</td>\n",
       "      <td>48.101473</td>\n",
       "      <td>45.933271</td>\n",
       "      <td>15.660744</td>\n",
       "      <td>15.529928</td>\n",
       "      <td>15.469839</td>\n",
       "      <td>15.550853</td>\n",
       "      <td>15.771510</td>\n",
       "      <td>67.753799</td>\n",
       "      <td>47.014475</td>\n",
       "    </tr>\n",
       "    <tr>\n",
       "      <th>std</th>\n",
       "      <td>36028.786065</td>\n",
       "      <td>4.915963</td>\n",
       "      <td>7.019069</td>\n",
       "      <td>5.738347</td>\n",
       "      <td>263.503922</td>\n",
       "      <td>0.455773</td>\n",
       "      <td>0.674699</td>\n",
       "      <td>0.780278</td>\n",
       "      <td>17.194590</td>\n",
       "      <td>17.954050</td>\n",
       "      <td>...</td>\n",
       "      <td>21.803653</td>\n",
       "      <td>21.532834</td>\n",
       "      <td>21.213315</td>\n",
       "      <td>16.910205</td>\n",
       "      <td>16.212333</td>\n",
       "      <td>15.977547</td>\n",
       "      <td>16.448905</td>\n",
       "      <td>17.209624</td>\n",
       "      <td>6.773192</td>\n",
       "      <td>20.152543</td>\n",
       "    </tr>\n",
       "    <tr>\n",
       "      <th>min</th>\n",
       "      <td>2.000000</td>\n",
       "      <td>16.000000</td>\n",
       "      <td>38.000000</td>\n",
       "      <td>46.000000</td>\n",
       "      <td>731.000000</td>\n",
       "      <td>1.000000</td>\n",
       "      <td>1.000000</td>\n",
       "      <td>1.000000</td>\n",
       "      <td>1.000000</td>\n",
       "      <td>6.000000</td>\n",
       "      <td>...</td>\n",
       "      <td>4.000000</td>\n",
       "      <td>5.000000</td>\n",
       "      <td>6.000000</td>\n",
       "      <td>1.000000</td>\n",
       "      <td>1.000000</td>\n",
       "      <td>1.000000</td>\n",
       "      <td>1.000000</td>\n",
       "      <td>1.000000</td>\n",
       "      <td>42.000000</td>\n",
       "      <td>3.000000</td>\n",
       "    </tr>\n",
       "    <tr>\n",
       "      <th>25%</th>\n",
       "      <td>205451.750000</td>\n",
       "      <td>21.000000</td>\n",
       "      <td>62.000000</td>\n",
       "      <td>69.000000</td>\n",
       "      <td>1484.000000</td>\n",
       "      <td>1.000000</td>\n",
       "      <td>3.000000</td>\n",
       "      <td>2.000000</td>\n",
       "      <td>9.000000</td>\n",
       "      <td>40.000000</td>\n",
       "      <td>...</td>\n",
       "      <td>25.250000</td>\n",
       "      <td>28.000000</td>\n",
       "      <td>25.000000</td>\n",
       "      <td>8.000000</td>\n",
       "      <td>8.000000</td>\n",
       "      <td>8.000000</td>\n",
       "      <td>8.000000</td>\n",
       "      <td>8.000000</td>\n",
       "      <td>63.000000</td>\n",
       "      <td>29.000000</td>\n",
       "    </tr>\n",
       "    <tr>\n",
       "      <th>50%</th>\n",
       "      <td>230441.000000</td>\n",
       "      <td>24.000000</td>\n",
       "      <td>67.000000</td>\n",
       "      <td>72.000000</td>\n",
       "      <td>1653.000000</td>\n",
       "      <td>1.000000</td>\n",
       "      <td>3.000000</td>\n",
       "      <td>2.000000</td>\n",
       "      <td>18.000000</td>\n",
       "      <td>55.000000</td>\n",
       "      <td>...</td>\n",
       "      <td>48.000000</td>\n",
       "      <td>55.000000</td>\n",
       "      <td>52.000000</td>\n",
       "      <td>11.000000</td>\n",
       "      <td>11.000000</td>\n",
       "      <td>11.000000</td>\n",
       "      <td>11.000000</td>\n",
       "      <td>11.000000</td>\n",
       "      <td>68.000000</td>\n",
       "      <td>52.000000</td>\n",
       "    </tr>\n",
       "    <tr>\n",
       "      <th>75%</th>\n",
       "      <td>245402.500000</td>\n",
       "      <td>28.000000</td>\n",
       "      <td>72.000000</td>\n",
       "      <td>76.000000</td>\n",
       "      <td>1810.000000</td>\n",
       "      <td>1.000000</td>\n",
       "      <td>3.000000</td>\n",
       "      <td>3.000000</td>\n",
       "      <td>27.000000</td>\n",
       "      <td>65.000000</td>\n",
       "      <td>...</td>\n",
       "      <td>66.000000</td>\n",
       "      <td>66.000000</td>\n",
       "      <td>64.000000</td>\n",
       "      <td>14.000000</td>\n",
       "      <td>14.000000</td>\n",
       "      <td>14.000000</td>\n",
       "      <td>14.000000</td>\n",
       "      <td>14.000000</td>\n",
       "      <td>72.000000</td>\n",
       "      <td>64.000000</td>\n",
       "    </tr>\n",
       "    <tr>\n",
       "      <th>max</th>\n",
       "      <td>259105.000000</td>\n",
       "      <td>53.000000</td>\n",
       "      <td>93.000000</td>\n",
       "      <td>95.000000</td>\n",
       "      <td>2316.000000</td>\n",
       "      <td>5.000000</td>\n",
       "      <td>5.000000</td>\n",
       "      <td>5.000000</td>\n",
       "      <td>99.000000</td>\n",
       "      <td>94.000000</td>\n",
       "      <td>...</td>\n",
       "      <td>94.000000</td>\n",
       "      <td>93.000000</td>\n",
       "      <td>95.000000</td>\n",
       "      <td>90.000000</td>\n",
       "      <td>92.000000</td>\n",
       "      <td>93.000000</td>\n",
       "      <td>93.000000</td>\n",
       "      <td>90.000000</td>\n",
       "      <td>93.000000</td>\n",
       "      <td>94.000000</td>\n",
       "    </tr>\n",
       "  </tbody>\n",
       "</table>\n",
       "<p>8 rows × 45 columns</p>\n",
       "</div>"
      ],
      "text/plain": [
       "                  ID           Age       Overall     Potential       Special  \\\n",
       "count   17108.000000  17108.000000  17108.000000  17108.000000  17108.000000   \n",
       "mean   221421.276187     25.053718     66.780161     72.553542   1625.722995   \n",
       "std     36028.786065      4.915963      7.019069      5.738347    263.503922   \n",
       "min         2.000000     16.000000     38.000000     46.000000    731.000000   \n",
       "25%    205451.750000     21.000000     62.000000     69.000000   1484.000000   \n",
       "50%    230441.000000     24.000000     67.000000     72.000000   1653.000000   \n",
       "75%    245402.500000     28.000000     72.000000     76.000000   1810.000000   \n",
       "max    259105.000000     53.000000     93.000000     95.000000   2316.000000   \n",
       "\n",
       "       International Reputation     Weak Foot   Skill Moves  Jersey Number  \\\n",
       "count              17108.000000  17108.000000  17108.000000   17088.000000   \n",
       "mean                   1.147533      2.981938      2.446107      20.756145   \n",
       "std                    0.455773      0.674699      0.780278      17.194590   \n",
       "min                    1.000000      1.000000      1.000000       1.000000   \n",
       "25%                    1.000000      3.000000      2.000000       9.000000   \n",
       "50%                    1.000000      3.000000      2.000000      18.000000   \n",
       "75%                    1.000000      3.000000      3.000000      27.000000   \n",
       "max                    5.000000      5.000000      5.000000      99.000000   \n",
       "\n",
       "           Crossing  ...     Marking  StandingTackle  SlidingTackle  \\\n",
       "count  17108.000000  ...  942.000000    17108.000000   17069.000000   \n",
       "mean      51.360065  ...   46.403397       48.101473      45.933271   \n",
       "std       17.954050  ...   21.803653       21.532834      21.213315   \n",
       "min        6.000000  ...    4.000000        5.000000       6.000000   \n",
       "25%       40.000000  ...   25.250000       28.000000      25.000000   \n",
       "50%       55.000000  ...   48.000000       55.000000      52.000000   \n",
       "75%       65.000000  ...   66.000000       66.000000      64.000000   \n",
       "max       94.000000  ...   94.000000       93.000000      95.000000   \n",
       "\n",
       "           GKDiving    GKHandling     GKKicking  GKPositioning    GKReflexes  \\\n",
       "count  17108.000000  17108.000000  17108.000000   17108.000000  17108.000000   \n",
       "mean      15.660744     15.529928     15.469839      15.550853     15.771510   \n",
       "std       16.910205     16.212333     15.977547      16.448905     17.209624   \n",
       "min        1.000000      1.000000      1.000000       1.000000      1.000000   \n",
       "25%        8.000000      8.000000      8.000000       8.000000      8.000000   \n",
       "50%       11.000000     11.000000     11.000000      11.000000     11.000000   \n",
       "75%       14.000000     14.000000     14.000000      14.000000     14.000000   \n",
       "max       90.000000     92.000000     93.000000      93.000000     90.000000   \n",
       "\n",
       "       Best Overall Rating  DefensiveAwareness  \n",
       "count         17108.000000        16166.000000  \n",
       "mean             67.753799           47.014475  \n",
       "std               6.773192           20.152543  \n",
       "min              42.000000            3.000000  \n",
       "25%              63.000000           29.000000  \n",
       "50%              68.000000           52.000000  \n",
       "75%              72.000000           64.000000  \n",
       "max              93.000000           94.000000  \n",
       "\n",
       "[8 rows x 45 columns]"
      ]
     },
     "execution_count": 6,
     "metadata": {},
     "output_type": "execute_result"
    }
   ],
   "source": [
    "# Get summary statistics\n",
    "df.describe()"
   ]
  },
  {
   "cell_type": "code",
   "execution_count": 7,
   "metadata": {},
   "outputs": [
    {
     "data": {
      "text/plain": [
       "325"
      ]
     },
     "execution_count": 7,
     "metadata": {},
     "output_type": "execute_result"
    }
   ],
   "source": [
    "# Total null records in Club field\n",
    "sum(df.Club.isnull())"
   ]
  },
  {
   "cell_type": "code",
   "execution_count": 8,
   "metadata": {},
   "outputs": [
    {
     "data": {
      "text/plain": [
       "0        Sep 25, 2020\n",
       "1        Aug 30, 2015\n",
       "2        Jan 30, 2020\n",
       "3        Jul 12, 2019\n",
       "4        Sep 14, 2020\n",
       "             ...     \n",
       "17103     Mar 2, 2018\n",
       "17104     Jul 1, 2019\n",
       "17105     Jul 1, 2019\n",
       "17106    Mar 31, 2019\n",
       "17107     Jul 1, 2018\n",
       "Name: Joined, Length: 17108, dtype: object"
      ]
     },
     "execution_count": 8,
     "metadata": {},
     "output_type": "execute_result"
    }
   ],
   "source": [
    "# Get sample of Joined date (it's Object not date format)\n",
    "df.Joined"
   ]
  },
  {
   "cell_type": "code",
   "execution_count": 9,
   "metadata": {},
   "outputs": [
    {
     "data": {
      "text/plain": [
       "Manchester United       45\n",
       "Arsenal                 44\n",
       "AS Monaco               44\n",
       "Crystal Palace          44\n",
       "Bolton Wanderers        44\n",
       "                        ..\n",
       "Kardemir Karabükspor     1\n",
       "113974                   1\n",
       "Atlético Bucaramanga     1\n",
       "Lierse SK                1\n",
       "Cesena                   1\n",
       "Name: Club, Length: 843, dtype: int64"
      ]
     },
     "execution_count": 9,
     "metadata": {},
     "output_type": "execute_result"
    }
   ],
   "source": [
    "# Value counts for Clubs\n",
    "df.Club.value_counts()"
   ]
  },
  {
   "cell_type": "code",
   "execution_count": 10,
   "metadata": {},
   "outputs": [
    {
     "data": {
      "text/plain": [
       "Medium/ Medium    8544\n",
       "High/ Medium      3318\n",
       "Medium/ High      1619\n",
       "High/ High        1013\n",
       "Medium/ Low        943\n",
       "High/ Low          773\n",
       "Low/ Medium        426\n",
       "Low/ High          363\n",
       "N/A/ N/A            59\n",
       "Low/ Low            50\n",
       "Name: Work Rate, dtype: int64"
      ]
     },
     "execution_count": 10,
     "metadata": {},
     "output_type": "execute_result"
    }
   ],
   "source": [
    "# Value counts for a player's Work Rate\n",
    "\n",
    "# In football, the Work Rate (Attacking / Defending) refers to the extend a player contributes to running and\n",
    "# chasing in a match while not in possession of a ball.\n",
    "# Source: https://en.wikipedia.org/wiki/Work_rate\n",
    "df['Work Rate'].value_counts()"
   ]
  },
  {
   "cell_type": "markdown",
   "metadata": {},
   "source": [
    "### Data Issues\n",
    "#### Define Cleaning Tasks"
   ]
  },
  {
   "cell_type": "markdown",
   "metadata": {},
   "source": [
    "#### Tidiness (1)\n",
    "* Create extra fields to store the Work Rate (Attacking / Defending)\n",
    "\n",
    "#### Quality (10)\n",
    "* Cleanup Work Rate fields:\n",
    " * Remove Blank Spaces\n",
    " * Remove N/A from affected cells\n",
    " * Convert Work Rate fields to Categorical data types\n",
    "* Remove Euro currency symbols from monetary fields and rename field to include Euro symbol\n",
    "* Split 'lbs' from 'Weight'\n",
    "* Drop all rows where the club value is null.\n",
    "* Convert 'Joined' field to datetime field.\n",
    "* Convert all rows to show only the Year component in the 'Contract Valid Until' field\n",
    " * Change to Categorical data type\n",
    "* Convert the 'Nationality' field to Categorical data type.\n",
    "* Convert all three of the monetary fields (Wage, Value, Release Clause) into whole numbers:\n",
    " * i.e., 64.4M becomes 64600000, 400K becomes 400000 etc.\n",
    "* Drop redundant 'Marking' and 'Loaned From' columns\n",
    "* Remove 'nan' from monetary fields (Wage, Value, Release Clause) and replace with 0"
   ]
  },
  {
   "cell_type": "markdown",
   "metadata": {},
   "source": [
    "#### Step 3 - Data Cleaning"
   ]
  },
  {
   "cell_type": "code",
   "execution_count": 11,
   "metadata": {},
   "outputs": [],
   "source": [
    "# Create a copy of the original dataframes to work on\n",
    "df_copy = df.copy()"
   ]
  },
  {
   "cell_type": "markdown",
   "metadata": {},
   "source": [
    "#### Quality\n",
    "#### Issue 1 - Cleanup the Work Rate Field"
   ]
  },
  {
   "cell_type": "markdown",
   "metadata": {},
   "source": [
    "#### Define"
   ]
  },
  {
   "cell_type": "markdown",
   "metadata": {},
   "source": [
    "* Cleanup Work Rate fields:\n",
    " * Remove Blank Spaces\n",
    " * Remove N/A from affected cells\n",
    " * Convert Work Rate fields to Categorical data types"
   ]
  },
  {
   "cell_type": "markdown",
   "metadata": {},
   "source": [
    "#### Code"
   ]
  },
  {
   "cell_type": "code",
   "execution_count": 12,
   "metadata": {},
   "outputs": [
    {
     "data": {
      "text/plain": [
       "Medium/ Medium    8544\n",
       "High/ Medium      3318\n",
       "Medium/ High      1619\n",
       "High/ High        1013\n",
       "Medium/ Low        943\n",
       "High/ Low          773\n",
       "Low/ Medium        426\n",
       "Low/ High          363\n",
       "N/A/ N/A            59\n",
       "Low/ Low            50\n",
       "Name: Work Rate, dtype: int64"
      ]
     },
     "execution_count": 12,
     "metadata": {},
     "output_type": "execute_result"
    }
   ],
   "source": [
    "# Prior to cleanup\n",
    "df['Work Rate'].value_counts()"
   ]
  },
  {
   "cell_type": "code",
   "execution_count": 13,
   "metadata": {},
   "outputs": [
    {
     "data": {
      "text/plain": [
       "dtype('O')"
      ]
     },
     "execution_count": 13,
     "metadata": {},
     "output_type": "execute_result"
    }
   ],
   "source": [
    "df['Work Rate'].dtype"
   ]
  },
  {
   "cell_type": "code",
   "execution_count": 14,
   "metadata": {},
   "outputs": [],
   "source": [
    "# Strip spaces\n",
    "df['Work Rate'] = df['Work Rate'].str.replace(' ','')\n",
    "\n",
    "# Remove N/A's\n",
    "df['Work Rate'] = df['Work Rate'].str.replace('N/A/N/A','')\n",
    "\n",
    "# Convert Object field to Categorical datatype\n",
    "df['Work Rate'] = df['Work Rate'].astype('category')"
   ]
  },
  {
   "cell_type": "markdown",
   "metadata": {},
   "source": [
    "#### Test"
   ]
  },
  {
   "cell_type": "code",
   "execution_count": 15,
   "metadata": {},
   "outputs": [
    {
     "data": {
      "text/plain": [
       "Medium/Medium    8544\n",
       "High/Medium      3318\n",
       "Medium/High      1619\n",
       "High/High        1013\n",
       "Medium/Low        943\n",
       "High/Low          773\n",
       "Low/Medium        426\n",
       "Low/High          363\n",
       "                   59\n",
       "Low/Low            50\n",
       "Name: Work Rate, dtype: int64"
      ]
     },
     "execution_count": 15,
     "metadata": {},
     "output_type": "execute_result"
    }
   ],
   "source": [
    "df['Work Rate'].value_counts()"
   ]
  },
  {
   "cell_type": "code",
   "execution_count": 16,
   "metadata": {},
   "outputs": [
    {
     "name": "stdout",
     "output_type": "stream",
     "text": [
      "category\n"
     ]
    }
   ],
   "source": [
    "print(df['Work Rate'].dtype)"
   ]
  },
  {
   "cell_type": "markdown",
   "metadata": {},
   "source": [
    "#### Issue 2 - Remove Euro currency symbols from monetary fields and rename field to include Euro symbol"
   ]
  },
  {
   "cell_type": "markdown",
   "metadata": {},
   "source": [
    "#### Define"
   ]
  },
  {
   "cell_type": "markdown",
   "metadata": {},
   "source": [
    "* Remove Euro currency symbols from all monetary fields\n",
    " * Wage\n",
    " * Value\n",
    " * Release Clause\n",
    "* Add Euro currency to monetary field headers"
   ]
  },
  {
   "cell_type": "markdown",
   "metadata": {},
   "source": [
    "#### Code"
   ]
  },
  {
   "cell_type": "code",
   "execution_count": 17,
   "metadata": {},
   "outputs": [
    {
     "data": {
      "text/html": [
       "<div>\n",
       "<style scoped>\n",
       "    .dataframe tbody tr th:only-of-type {\n",
       "        vertical-align: middle;\n",
       "    }\n",
       "\n",
       "    .dataframe tbody tr th {\n",
       "        vertical-align: top;\n",
       "    }\n",
       "\n",
       "    .dataframe thead th {\n",
       "        text-align: right;\n",
       "    }\n",
       "</style>\n",
       "<table border=\"1\" class=\"dataframe\">\n",
       "  <thead>\n",
       "    <tr style=\"text-align: right;\">\n",
       "      <th></th>\n",
       "      <th>Wage</th>\n",
       "      <th>Value</th>\n",
       "      <th>Release Clause</th>\n",
       "    </tr>\n",
       "  </thead>\n",
       "  <tbody>\n",
       "    <tr>\n",
       "      <th>0</th>\n",
       "      <td>€115K</td>\n",
       "      <td>€31.5M</td>\n",
       "      <td>€64.6M</td>\n",
       "    </tr>\n",
       "    <tr>\n",
       "      <th>1</th>\n",
       "      <td>€370K</td>\n",
       "      <td>€87M</td>\n",
       "      <td>€161M</td>\n",
       "    </tr>\n",
       "    <tr>\n",
       "      <th>2</th>\n",
       "      <td>€195K</td>\n",
       "      <td>€63M</td>\n",
       "      <td>€124.4M</td>\n",
       "    </tr>\n",
       "    <tr>\n",
       "      <th>3</th>\n",
       "      <td>€290K</td>\n",
       "      <td>€50.5M</td>\n",
       "      <td>€103.5M</td>\n",
       "    </tr>\n",
       "    <tr>\n",
       "      <th>4</th>\n",
       "      <td>€41K</td>\n",
       "      <td>€22M</td>\n",
       "      <td>€46.2M</td>\n",
       "    </tr>\n",
       "    <tr>\n",
       "      <th>...</th>\n",
       "      <td>...</td>\n",
       "      <td>...</td>\n",
       "      <td>...</td>\n",
       "    </tr>\n",
       "    <tr>\n",
       "      <th>17103</th>\n",
       "      <td>€500</td>\n",
       "      <td>€50K</td>\n",
       "      <td>€120K</td>\n",
       "    </tr>\n",
       "    <tr>\n",
       "      <th>17104</th>\n",
       "      <td>€500</td>\n",
       "      <td>€50K</td>\n",
       "      <td>€83K</td>\n",
       "    </tr>\n",
       "    <tr>\n",
       "      <th>17105</th>\n",
       "      <td>€500</td>\n",
       "      <td>€60K</td>\n",
       "      <td>€149K</td>\n",
       "    </tr>\n",
       "    <tr>\n",
       "      <th>17106</th>\n",
       "      <td>€500</td>\n",
       "      <td>€50K</td>\n",
       "      <td>€94K</td>\n",
       "    </tr>\n",
       "    <tr>\n",
       "      <th>17107</th>\n",
       "      <td>€500</td>\n",
       "      <td>€50K</td>\n",
       "      <td>€109K</td>\n",
       "    </tr>\n",
       "  </tbody>\n",
       "</table>\n",
       "<p>17108 rows × 3 columns</p>\n",
       "</div>"
      ],
      "text/plain": [
       "        Wage   Value Release Clause\n",
       "0      €115K  €31.5M         €64.6M\n",
       "1      €370K    €87M          €161M\n",
       "2      €195K    €63M        €124.4M\n",
       "3      €290K  €50.5M        €103.5M\n",
       "4       €41K    €22M         €46.2M\n",
       "...      ...     ...            ...\n",
       "17103   €500    €50K          €120K\n",
       "17104   €500    €50K           €83K\n",
       "17105   €500    €60K          €149K\n",
       "17106   €500    €50K           €94K\n",
       "17107   €500    €50K          €109K\n",
       "\n",
       "[17108 rows x 3 columns]"
      ]
     },
     "execution_count": 17,
     "metadata": {},
     "output_type": "execute_result"
    }
   ],
   "source": [
    "df[['Wage', 'Value','Release Clause']]"
   ]
  },
  {
   "cell_type": "code",
   "execution_count": 18,
   "metadata": {},
   "outputs": [],
   "source": [
    "# Strip Euro € from monetary column values\n",
    "cols = ['Wage', 'Value','Release Clause']\n",
    "\n",
    "for item in cols:\n",
    "    df[item] = df[item].astype(str).map(lambda x: x.lstrip('€'))"
   ]
  },
  {
   "cell_type": "code",
   "execution_count": 19,
   "metadata": {},
   "outputs": [],
   "source": [
    "# Update header names using dictionary\n",
    "# key = old column name\n",
    "# value = new column name\n",
    "dict = {'Wage':'Wage (€)',\n",
    "        'Value':'Value (€)',\n",
    "        'Release Clause':'Release Clause (€)'}\n",
    "\n",
    "# Rename dataframe fields\n",
    "df.rename(columns=dict, inplace=True)"
   ]
  },
  {
   "cell_type": "markdown",
   "metadata": {},
   "source": [
    "#### Test"
   ]
  },
  {
   "cell_type": "code",
   "execution_count": 20,
   "metadata": {},
   "outputs": [
    {
     "data": {
      "text/html": [
       "<div>\n",
       "<style scoped>\n",
       "    .dataframe tbody tr th:only-of-type {\n",
       "        vertical-align: middle;\n",
       "    }\n",
       "\n",
       "    .dataframe tbody tr th {\n",
       "        vertical-align: top;\n",
       "    }\n",
       "\n",
       "    .dataframe thead th {\n",
       "        text-align: right;\n",
       "    }\n",
       "</style>\n",
       "<table border=\"1\" class=\"dataframe\">\n",
       "  <thead>\n",
       "    <tr style=\"text-align: right;\">\n",
       "      <th></th>\n",
       "      <th>Wage (€)</th>\n",
       "      <th>Value (€)</th>\n",
       "      <th>Release Clause (€)</th>\n",
       "    </tr>\n",
       "  </thead>\n",
       "  <tbody>\n",
       "    <tr>\n",
       "      <th>0</th>\n",
       "      <td>115K</td>\n",
       "      <td>31.5M</td>\n",
       "      <td>64.6M</td>\n",
       "    </tr>\n",
       "    <tr>\n",
       "      <th>1</th>\n",
       "      <td>370K</td>\n",
       "      <td>87M</td>\n",
       "      <td>161M</td>\n",
       "    </tr>\n",
       "    <tr>\n",
       "      <th>2</th>\n",
       "      <td>195K</td>\n",
       "      <td>63M</td>\n",
       "      <td>124.4M</td>\n",
       "    </tr>\n",
       "    <tr>\n",
       "      <th>3</th>\n",
       "      <td>290K</td>\n",
       "      <td>50.5M</td>\n",
       "      <td>103.5M</td>\n",
       "    </tr>\n",
       "    <tr>\n",
       "      <th>4</th>\n",
       "      <td>41K</td>\n",
       "      <td>22M</td>\n",
       "      <td>46.2M</td>\n",
       "    </tr>\n",
       "    <tr>\n",
       "      <th>...</th>\n",
       "      <td>...</td>\n",
       "      <td>...</td>\n",
       "      <td>...</td>\n",
       "    </tr>\n",
       "    <tr>\n",
       "      <th>17103</th>\n",
       "      <td>500</td>\n",
       "      <td>50K</td>\n",
       "      <td>120K</td>\n",
       "    </tr>\n",
       "    <tr>\n",
       "      <th>17104</th>\n",
       "      <td>500</td>\n",
       "      <td>50K</td>\n",
       "      <td>83K</td>\n",
       "    </tr>\n",
       "    <tr>\n",
       "      <th>17105</th>\n",
       "      <td>500</td>\n",
       "      <td>60K</td>\n",
       "      <td>149K</td>\n",
       "    </tr>\n",
       "    <tr>\n",
       "      <th>17106</th>\n",
       "      <td>500</td>\n",
       "      <td>50K</td>\n",
       "      <td>94K</td>\n",
       "    </tr>\n",
       "    <tr>\n",
       "      <th>17107</th>\n",
       "      <td>500</td>\n",
       "      <td>50K</td>\n",
       "      <td>109K</td>\n",
       "    </tr>\n",
       "  </tbody>\n",
       "</table>\n",
       "<p>17108 rows × 3 columns</p>\n",
       "</div>"
      ],
      "text/plain": [
       "      Wage (€) Value (€) Release Clause (€)\n",
       "0         115K     31.5M              64.6M\n",
       "1         370K       87M               161M\n",
       "2         195K       63M             124.4M\n",
       "3         290K     50.5M             103.5M\n",
       "4          41K       22M              46.2M\n",
       "...        ...       ...                ...\n",
       "17103      500       50K               120K\n",
       "17104      500       50K                83K\n",
       "17105      500       60K               149K\n",
       "17106      500       50K                94K\n",
       "17107      500       50K               109K\n",
       "\n",
       "[17108 rows x 3 columns]"
      ]
     },
     "execution_count": 20,
     "metadata": {},
     "output_type": "execute_result"
    }
   ],
   "source": [
    "df[['Wage (€)', 'Value (€)','Release Clause (€)']]"
   ]
  },
  {
   "cell_type": "markdown",
   "metadata": {},
   "source": [
    "#### Issue 3 - Remove 'lbs' from the 'Weight' field"
   ]
  },
  {
   "cell_type": "markdown",
   "metadata": {},
   "source": [
    "#### Define"
   ]
  },
  {
   "cell_type": "markdown",
   "metadata": {},
   "source": [
    "* Remove 'lbs' from all rows in the 'Weight' field\n",
    "* Rename field to 'Weight (lbs)'\n",
    "* Change datatype from Object to Int"
   ]
  },
  {
   "cell_type": "markdown",
   "metadata": {},
   "source": [
    "##### Code"
   ]
  },
  {
   "cell_type": "code",
   "execution_count": 21,
   "metadata": {},
   "outputs": [
    {
     "data": {
      "text/plain": [
       "0        190lbs\n",
       "1        154lbs\n",
       "2        152lbs\n",
       "3        161lbs\n",
       "4        152lbs\n",
       "          ...  \n",
       "17103    176lbs\n",
       "17104    187lbs\n",
       "17105    176lbs\n",
       "17106    168lbs\n",
       "17107    172lbs\n",
       "Name: Weight, Length: 17108, dtype: object"
      ]
     },
     "execution_count": 21,
     "metadata": {},
     "output_type": "execute_result"
    }
   ],
   "source": [
    "df['Weight']"
   ]
  },
  {
   "cell_type": "code",
   "execution_count": 22,
   "metadata": {},
   "outputs": [],
   "source": [
    "# Remove 'lbs'\n",
    "df['Weight'] = df['Weight'].astype(str).map(lambda x: x.rstrip('lbs'))\n",
    "\n",
    "# Convert Object field to Integer datatype\n",
    "df['Weight'] = df['Weight'].astype('int')\n",
    "\n",
    "# Rename field\n",
    "dict = {'Weight':'Weight (lbs)'}\n",
    "\n",
    "# Rename dataframe field\n",
    "df.rename(columns=dict, inplace=True)"
   ]
  },
  {
   "cell_type": "markdown",
   "metadata": {},
   "source": [
    "##### Test"
   ]
  },
  {
   "cell_type": "code",
   "execution_count": 23,
   "metadata": {},
   "outputs": [
    {
     "data": {
      "text/plain": [
       "0        190\n",
       "1        154\n",
       "2        152\n",
       "3        161\n",
       "4        152\n",
       "        ... \n",
       "17103    176\n",
       "17104    187\n",
       "17105    176\n",
       "17106    168\n",
       "17107    172\n",
       "Name: Weight (lbs), Length: 17108, dtype: int32"
      ]
     },
     "execution_count": 23,
     "metadata": {},
     "output_type": "execute_result"
    }
   ],
   "source": [
    "df['Weight (lbs)']"
   ]
  },
  {
   "cell_type": "markdown",
   "metadata": {},
   "source": [
    "#### Issue 4 - Drop all rows where the 'Club' row value is null"
   ]
  },
  {
   "cell_type": "markdown",
   "metadata": {},
   "source": [
    "#### Define"
   ]
  },
  {
   "cell_type": "markdown",
   "metadata": {},
   "source": [
    "* Drop all rows that have a null in the 'Club' field"
   ]
  },
  {
   "cell_type": "markdown",
   "metadata": {},
   "source": [
    "##### Code"
   ]
  },
  {
   "cell_type": "code",
   "execution_count": 24,
   "metadata": {},
   "outputs": [
    {
     "data": {
      "text/plain": [
       "325"
      ]
     },
     "execution_count": 24,
     "metadata": {},
     "output_type": "execute_result"
    }
   ],
   "source": [
    "# Check total number of null values in the 'Club' field\n",
    "sum(df.Club.isnull())"
   ]
  },
  {
   "cell_type": "code",
   "execution_count": 25,
   "metadata": {},
   "outputs": [],
   "source": [
    "# Drop all empty rows that have an empty Club row value\n",
    "df.dropna(subset=['Club'], inplace=True)"
   ]
  },
  {
   "cell_type": "markdown",
   "metadata": {},
   "source": [
    "#### Test"
   ]
  },
  {
   "cell_type": "code",
   "execution_count": 26,
   "metadata": {},
   "outputs": [
    {
     "data": {
      "text/plain": [
       "True"
      ]
     },
     "execution_count": 26,
     "metadata": {},
     "output_type": "execute_result"
    }
   ],
   "source": [
    "# Check total number of null values in the 'Club' field is zero\n",
    "sum(df.Club.isnull()) == 0"
   ]
  },
  {
   "cell_type": "markdown",
   "metadata": {},
   "source": [
    "#### Issue 5 - Convert 'Joined' field to datetime field\n",
    "#### Define\n",
    "* Convert field type to datetime"
   ]
  },
  {
   "cell_type": "markdown",
   "metadata": {},
   "source": [
    "#### Code"
   ]
  },
  {
   "cell_type": "code",
   "execution_count": 27,
   "metadata": {},
   "outputs": [
    {
     "data": {
      "text/plain": [
       "dtype('O')"
      ]
     },
     "execution_count": 27,
     "metadata": {},
     "output_type": "execute_result"
    }
   ],
   "source": [
    "df['Joined'].dtype"
   ]
  },
  {
   "cell_type": "code",
   "execution_count": 28,
   "metadata": {},
   "outputs": [],
   "source": [
    "# Convert the 'Joined' field from object to datetime\n",
    "df['Joined'] = pd.to_datetime(df['Joined'])"
   ]
  },
  {
   "cell_type": "markdown",
   "metadata": {},
   "source": [
    "#### Test"
   ]
  },
  {
   "cell_type": "code",
   "execution_count": 29,
   "metadata": {},
   "outputs": [
    {
     "data": {
      "text/plain": [
       "dtype('<M8[ns]')"
      ]
     },
     "execution_count": 29,
     "metadata": {},
     "output_type": "execute_result"
    }
   ],
   "source": [
    "df['Joined'].dtype"
   ]
  },
  {
   "cell_type": "markdown",
   "metadata": {},
   "source": [
    "#### Issue 6 - Convert all rows to show only the Year component in the 'Contract Valid Until' field and convert to Categorical datatype\n",
    "#### Define\n",
    "* Convert all rows to show only the Year component in the 'Contract Valid Until' field\n",
    "* Convert field to categorical datatype"
   ]
  },
  {
   "cell_type": "markdown",
   "metadata": {},
   "source": [
    "#### Code"
   ]
  },
  {
   "cell_type": "code",
   "execution_count": 30,
   "metadata": {},
   "outputs": [
    {
     "data": {
      "text/plain": [
       "0        2022\n",
       "1        2023\n",
       "2        2025\n",
       "3        2024\n",
       "4        2024\n",
       "         ... \n",
       "17103    2021\n",
       "17104    2022\n",
       "17105    2021\n",
       "17106    2022\n",
       "17107    2020\n",
       "Name: Contract Valid Until, Length: 16783, dtype: object"
      ]
     },
     "execution_count": 30,
     "metadata": {},
     "output_type": "execute_result"
    }
   ],
   "source": [
    "# Check quality of column\n",
    "df['Contract Valid Until']"
   ]
  },
  {
   "cell_type": "code",
   "execution_count": 31,
   "metadata": {},
   "outputs": [
    {
     "name": "stdout",
     "output_type": "stream",
     "text": [
      "Jun 30, 2021\n",
      "Jun 30, 2015\n"
     ]
    }
   ],
   "source": [
    "# Data contains rows that contain the date as well and not just the Year\n",
    "print(df['Contract Valid Until'].iloc[10840])\n",
    "print(df['Contract Valid Until'].iloc[10557])"
   ]
  },
  {
   "cell_type": "code",
   "execution_count": 32,
   "metadata": {},
   "outputs": [],
   "source": [
    "# Find the Year component\n",
    "# The str extract method is used to find the year component in each row using Regular Expressions\n",
    "df['Contract_Valid_Till_Year'] = df['Contract Valid Until'].str.extract(r'(\\d{4}$)', expand=True)\n",
    "\n",
    "# Drop original column\n",
    "df.drop('Contract Valid Until', axis=1, inplace=True)\n",
    "\n",
    "# Rename 'Contract_Valid_Till_Year' to 'Contract Valid Until'\n",
    "df.rename(columns={\"Contract_Valid_Till_Year\": \"Contract Valid Until\"}, inplace=True)\n",
    "\n",
    "# Convert field to Categorical datatype\n",
    "df['Contract Valid Until'] = df['Contract Valid Until'].astype('category')"
   ]
  },
  {
   "cell_type": "markdown",
   "metadata": {},
   "source": [
    "#### Test"
   ]
  },
  {
   "cell_type": "code",
   "execution_count": 33,
   "metadata": {},
   "outputs": [
    {
     "name": "stdout",
     "output_type": "stream",
     "text": [
      "2021\n",
      "2015\n",
      "True\n"
     ]
    }
   ],
   "source": [
    "# Check that only the Year component shows\n",
    "print(df['Contract Valid Until'].iloc[10840])\n",
    "print(df['Contract Valid Until'].iloc[10557])\n",
    "print(df['Contract Valid Until'].dtype == 'category')"
   ]
  },
  {
   "cell_type": "markdown",
   "metadata": {},
   "source": [
    "#### Issue 7 - Convert the 'Nationality' field to Categorical data type\n",
    "#### Define\n",
    "* Convert field to categorical data type."
   ]
  },
  {
   "cell_type": "markdown",
   "metadata": {},
   "source": [
    "#### Code"
   ]
  },
  {
   "cell_type": "code",
   "execution_count": 34,
   "metadata": {},
   "outputs": [
    {
     "name": "stdout",
     "output_type": "stream",
     "text": [
      "object\n"
     ]
    }
   ],
   "source": [
    "# Check datatype before cleansing operation\n",
    "print(df['Nationality'].dtype)\n",
    "\n",
    "# Convert datatype to categorical\n",
    "df['Nationality'] = df['Nationality'].astype('category')"
   ]
  },
  {
   "cell_type": "markdown",
   "metadata": {},
   "source": [
    "#### Test"
   ]
  },
  {
   "cell_type": "code",
   "execution_count": 35,
   "metadata": {},
   "outputs": [
    {
     "data": {
      "text/plain": [
       "CategoricalDtype(categories=['Afghanistan', 'Albania', 'Algeria', 'Andorra', 'Angola',\n",
       "                  'Antigua & Barbuda', 'Argentina', 'Armenia', 'Aruba',\n",
       "                  'Australia',\n",
       "                  ...\n",
       "                  'Ukraine', 'United Arab Emirates', 'United States',\n",
       "                  'Uruguay', 'Uzbekistan', 'Venezuela', 'Vietnam', 'Wales',\n",
       "                  'Zambia', 'Zimbabwe'],\n",
       "                 ordered=False)"
      ]
     },
     "execution_count": 35,
     "metadata": {},
     "output_type": "execute_result"
    }
   ],
   "source": [
    "# Check datatype after cleansing operation\n",
    "df['Nationality'].dtype"
   ]
  },
  {
   "cell_type": "markdown",
   "metadata": {},
   "source": [
    "#### Issue 8 - Convert all three of the monetary fields (Wage, Value, Release Clause) into whole numbers\n",
    "#### Define\n",
    "* Convert all three of the monetary fields (Wage, Value, Release Clause) into whole numbers:\n",
    " * i.e., 64.4M becomes 64400000, 400K becomes 400000, values without M or K stay as-is etc."
   ]
  },
  {
   "cell_type": "markdown",
   "metadata": {},
   "source": [
    "#### Code"
   ]
  },
  {
   "cell_type": "code",
   "execution_count": 36,
   "metadata": {},
   "outputs": [
    {
     "data": {
      "text/html": [
       "<div>\n",
       "<style scoped>\n",
       "    .dataframe tbody tr th:only-of-type {\n",
       "        vertical-align: middle;\n",
       "    }\n",
       "\n",
       "    .dataframe tbody tr th {\n",
       "        vertical-align: top;\n",
       "    }\n",
       "\n",
       "    .dataframe thead th {\n",
       "        text-align: right;\n",
       "    }\n",
       "</style>\n",
       "<table border=\"1\" class=\"dataframe\">\n",
       "  <thead>\n",
       "    <tr style=\"text-align: right;\">\n",
       "      <th></th>\n",
       "      <th>Name</th>\n",
       "      <th>Wage (€)</th>\n",
       "      <th>Value (€)</th>\n",
       "      <th>Release Clause (€)</th>\n",
       "    </tr>\n",
       "  </thead>\n",
       "  <tbody>\n",
       "    <tr>\n",
       "      <th>0</th>\n",
       "      <td>L. Suárez</td>\n",
       "      <td>115K</td>\n",
       "      <td>31.5M</td>\n",
       "      <td>64.6M</td>\n",
       "    </tr>\n",
       "    <tr>\n",
       "      <th>1</th>\n",
       "      <td>K. De Bruyne</td>\n",
       "      <td>370K</td>\n",
       "      <td>87M</td>\n",
       "      <td>161M</td>\n",
       "    </tr>\n",
       "    <tr>\n",
       "      <th>2</th>\n",
       "      <td>Bruno Fernandes</td>\n",
       "      <td>195K</td>\n",
       "      <td>63M</td>\n",
       "      <td>124.4M</td>\n",
       "    </tr>\n",
       "    <tr>\n",
       "      <th>3</th>\n",
       "      <td>A. Griezmann</td>\n",
       "      <td>290K</td>\n",
       "      <td>50.5M</td>\n",
       "      <td>103.5M</td>\n",
       "    </tr>\n",
       "    <tr>\n",
       "      <th>4</th>\n",
       "      <td>M. Acuña</td>\n",
       "      <td>41K</td>\n",
       "      <td>22M</td>\n",
       "      <td>46.2M</td>\n",
       "    </tr>\n",
       "    <tr>\n",
       "      <th>...</th>\n",
       "      <td>...</td>\n",
       "      <td>...</td>\n",
       "      <td>...</td>\n",
       "      <td>...</td>\n",
       "    </tr>\n",
       "    <tr>\n",
       "      <th>17103</th>\n",
       "      <td>19 C. Miszta</td>\n",
       "      <td>500</td>\n",
       "      <td>50K</td>\n",
       "      <td>120K</td>\n",
       "    </tr>\n",
       "    <tr>\n",
       "      <th>17104</th>\n",
       "      <td>B. Voll</td>\n",
       "      <td>500</td>\n",
       "      <td>50K</td>\n",
       "      <td>83K</td>\n",
       "    </tr>\n",
       "    <tr>\n",
       "      <th>17105</th>\n",
       "      <td>T. Parker</td>\n",
       "      <td>500</td>\n",
       "      <td>60K</td>\n",
       "      <td>149K</td>\n",
       "    </tr>\n",
       "    <tr>\n",
       "      <th>17106</th>\n",
       "      <td>H. Sveijer</td>\n",
       "      <td>500</td>\n",
       "      <td>50K</td>\n",
       "      <td>94K</td>\n",
       "    </tr>\n",
       "    <tr>\n",
       "      <th>17107</th>\n",
       "      <td>19 J. Milli</td>\n",
       "      <td>500</td>\n",
       "      <td>50K</td>\n",
       "      <td>109K</td>\n",
       "    </tr>\n",
       "  </tbody>\n",
       "</table>\n",
       "<p>16783 rows × 4 columns</p>\n",
       "</div>"
      ],
      "text/plain": [
       "                   Name Wage (€) Value (€) Release Clause (€)\n",
       "0             L. Suárez     115K     31.5M              64.6M\n",
       "1          K. De Bruyne     370K       87M               161M\n",
       "2       Bruno Fernandes     195K       63M             124.4M\n",
       "3          A. Griezmann     290K     50.5M             103.5M\n",
       "4              M. Acuña      41K       22M              46.2M\n",
       "...                 ...      ...       ...                ...\n",
       "17103      19 C. Miszta      500       50K               120K\n",
       "17104           B. Voll      500       50K                83K\n",
       "17105         T. Parker      500       60K               149K\n",
       "17106        H. Sveijer      500       50K                94K\n",
       "17107       19 J. Milli      500       50K               109K\n",
       "\n",
       "[16783 rows x 4 columns]"
      ]
     },
     "execution_count": 36,
     "metadata": {},
     "output_type": "execute_result"
    }
   ],
   "source": [
    "# Check existing values\n",
    "df[['Name','Wage (€)', 'Value (€)', 'Release Clause (€)']]"
   ]
  },
  {
   "cell_type": "code",
   "execution_count": 37,
   "metadata": {},
   "outputs": [],
   "source": [
    "# Begin cleansing operations\n",
    "\n",
    "# The apply() function applies the lambda function to each row in the dataframe\n",
    "# Cleanse the Wage\n",
    "df['Wage (€)'] = df['Wage (€)'].apply(lambda x: int(float(x.replace(\"K\",\"\"))*1000) if \"K\" in x else x)"
   ]
  },
  {
   "cell_type": "code",
   "execution_count": 38,
   "metadata": {},
   "outputs": [],
   "source": [
    "# Cleanse the 'Value (€)' column of the M's\n",
    "df['Value (€)'] = df['Value (€)'].apply(lambda x: int(float(x.replace(\"M\",\"\"))*1000000) if \"M\" in x else x)"
   ]
  },
  {
   "cell_type": "code",
   "execution_count": 39,
   "metadata": {},
   "outputs": [],
   "source": [
    "# Cleanse the 'Value (€)' column of the K's\n",
    "# Need to convert the column to string first to ensure that the string function, replace(), works as expected\n",
    "df['Value (€)'] = df['Value (€)'].astype('str')\n",
    "df['Value (€)'] = df['Value (€)'].apply(lambda x: int(float(x.replace(\"K\",\"\"))*1000) if \"K\" in x else x)"
   ]
  },
  {
   "cell_type": "code",
   "execution_count": 40,
   "metadata": {},
   "outputs": [],
   "source": [
    "# Cleanse the 'Release Clause (€)' column of the M's\n",
    "df['Release Clause (€)'] = df['Release Clause (€)'].astype('str')\n",
    "df['Release Clause (€)'] = df['Release Clause (€)'].apply(lambda x: int(float(x.replace(\"M\",\"\"))*1000000) if \"M\" in x else x)"
   ]
  },
  {
   "cell_type": "code",
   "execution_count": 41,
   "metadata": {},
   "outputs": [],
   "source": [
    "# Cleanse the 'Release Clause (€)' column of the K's\n",
    "df['Release Clause (€)'] = df['Release Clause (€)'].astype('str')\n",
    "df['Release Clause (€)'] = df['Release Clause (€)'].apply(lambda x: int(float(x.replace(\"K\",\"\"))*1000) if \"K\" in x else x)"
   ]
  },
  {
   "cell_type": "markdown",
   "metadata": {},
   "source": [
    "#### Test"
   ]
  },
  {
   "cell_type": "code",
   "execution_count": 42,
   "metadata": {},
   "outputs": [
    {
     "data": {
      "text/html": [
       "<div>\n",
       "<style scoped>\n",
       "    .dataframe tbody tr th:only-of-type {\n",
       "        vertical-align: middle;\n",
       "    }\n",
       "\n",
       "    .dataframe tbody tr th {\n",
       "        vertical-align: top;\n",
       "    }\n",
       "\n",
       "    .dataframe thead th {\n",
       "        text-align: right;\n",
       "    }\n",
       "</style>\n",
       "<table border=\"1\" class=\"dataframe\">\n",
       "  <thead>\n",
       "    <tr style=\"text-align: right;\">\n",
       "      <th></th>\n",
       "      <th>Name</th>\n",
       "      <th>Wage (€)</th>\n",
       "      <th>Value (€)</th>\n",
       "      <th>Release Clause (€)</th>\n",
       "    </tr>\n",
       "  </thead>\n",
       "  <tbody>\n",
       "    <tr>\n",
       "      <th>0</th>\n",
       "      <td>L. Suárez</td>\n",
       "      <td>115000</td>\n",
       "      <td>31500000</td>\n",
       "      <td>64599999</td>\n",
       "    </tr>\n",
       "    <tr>\n",
       "      <th>1</th>\n",
       "      <td>K. De Bruyne</td>\n",
       "      <td>370000</td>\n",
       "      <td>87000000</td>\n",
       "      <td>161000000</td>\n",
       "    </tr>\n",
       "    <tr>\n",
       "      <th>2</th>\n",
       "      <td>Bruno Fernandes</td>\n",
       "      <td>195000</td>\n",
       "      <td>63000000</td>\n",
       "      <td>124400000</td>\n",
       "    </tr>\n",
       "    <tr>\n",
       "      <th>3</th>\n",
       "      <td>A. Griezmann</td>\n",
       "      <td>290000</td>\n",
       "      <td>50500000</td>\n",
       "      <td>103500000</td>\n",
       "    </tr>\n",
       "    <tr>\n",
       "      <th>4</th>\n",
       "      <td>M. Acuña</td>\n",
       "      <td>41000</td>\n",
       "      <td>22000000</td>\n",
       "      <td>46200000</td>\n",
       "    </tr>\n",
       "    <tr>\n",
       "      <th>...</th>\n",
       "      <td>...</td>\n",
       "      <td>...</td>\n",
       "      <td>...</td>\n",
       "      <td>...</td>\n",
       "    </tr>\n",
       "    <tr>\n",
       "      <th>17103</th>\n",
       "      <td>19 C. Miszta</td>\n",
       "      <td>500</td>\n",
       "      <td>50000</td>\n",
       "      <td>120000</td>\n",
       "    </tr>\n",
       "    <tr>\n",
       "      <th>17104</th>\n",
       "      <td>B. Voll</td>\n",
       "      <td>500</td>\n",
       "      <td>50000</td>\n",
       "      <td>83000</td>\n",
       "    </tr>\n",
       "    <tr>\n",
       "      <th>17105</th>\n",
       "      <td>T. Parker</td>\n",
       "      <td>500</td>\n",
       "      <td>60000</td>\n",
       "      <td>149000</td>\n",
       "    </tr>\n",
       "    <tr>\n",
       "      <th>17106</th>\n",
       "      <td>H. Sveijer</td>\n",
       "      <td>500</td>\n",
       "      <td>50000</td>\n",
       "      <td>94000</td>\n",
       "    </tr>\n",
       "    <tr>\n",
       "      <th>17107</th>\n",
       "      <td>19 J. Milli</td>\n",
       "      <td>500</td>\n",
       "      <td>50000</td>\n",
       "      <td>109000</td>\n",
       "    </tr>\n",
       "  </tbody>\n",
       "</table>\n",
       "<p>16783 rows × 4 columns</p>\n",
       "</div>"
      ],
      "text/plain": [
       "                   Name Wage (€) Value (€) Release Clause (€)\n",
       "0             L. Suárez   115000  31500000           64599999\n",
       "1          K. De Bruyne   370000  87000000          161000000\n",
       "2       Bruno Fernandes   195000  63000000          124400000\n",
       "3          A. Griezmann   290000  50500000          103500000\n",
       "4              M. Acuña    41000  22000000           46200000\n",
       "...                 ...      ...       ...                ...\n",
       "17103      19 C. Miszta      500     50000             120000\n",
       "17104           B. Voll      500     50000              83000\n",
       "17105         T. Parker      500     60000             149000\n",
       "17106        H. Sveijer      500     50000              94000\n",
       "17107       19 J. Milli      500     50000             109000\n",
       "\n",
       "[16783 rows x 4 columns]"
      ]
     },
     "execution_count": 42,
     "metadata": {},
     "output_type": "execute_result"
    }
   ],
   "source": [
    "# Check existing values\n",
    "df[['Name','Wage (€)', 'Value (€)', 'Release Clause (€)']]"
   ]
  },
  {
   "cell_type": "markdown",
   "metadata": {},
   "source": [
    "#### Issue 9 -  Drop redundant columns\n",
    "#### Define\n",
    "* Drop redundant 'Marking' and 'Loaned From' columns"
   ]
  },
  {
   "cell_type": "markdown",
   "metadata": {},
   "source": [
    "#### Code"
   ]
  },
  {
   "cell_type": "code",
   "execution_count": 43,
   "metadata": {},
   "outputs": [
    {
     "data": {
      "text/html": [
       "<div>\n",
       "<style scoped>\n",
       "    .dataframe tbody tr th:only-of-type {\n",
       "        vertical-align: middle;\n",
       "    }\n",
       "\n",
       "    .dataframe tbody tr th {\n",
       "        vertical-align: top;\n",
       "    }\n",
       "\n",
       "    .dataframe thead th {\n",
       "        text-align: right;\n",
       "    }\n",
       "</style>\n",
       "<table border=\"1\" class=\"dataframe\">\n",
       "  <thead>\n",
       "    <tr style=\"text-align: right;\">\n",
       "      <th></th>\n",
       "      <th>Marking</th>\n",
       "      <th>Loaned From</th>\n",
       "    </tr>\n",
       "  </thead>\n",
       "  <tbody>\n",
       "    <tr>\n",
       "      <th>0</th>\n",
       "      <td>NaN</td>\n",
       "      <td>NaN</td>\n",
       "    </tr>\n",
       "    <tr>\n",
       "      <th>1</th>\n",
       "      <td>NaN</td>\n",
       "      <td>NaN</td>\n",
       "    </tr>\n",
       "    <tr>\n",
       "      <th>2</th>\n",
       "      <td>NaN</td>\n",
       "      <td>NaN</td>\n",
       "    </tr>\n",
       "    <tr>\n",
       "      <th>3</th>\n",
       "      <td>NaN</td>\n",
       "      <td>NaN</td>\n",
       "    </tr>\n",
       "    <tr>\n",
       "      <th>4</th>\n",
       "      <td>NaN</td>\n",
       "      <td>NaN</td>\n",
       "    </tr>\n",
       "    <tr>\n",
       "      <th>...</th>\n",
       "      <td>...</td>\n",
       "      <td>...</td>\n",
       "    </tr>\n",
       "    <tr>\n",
       "      <th>17103</th>\n",
       "      <td>5.0</td>\n",
       "      <td>NaN</td>\n",
       "    </tr>\n",
       "    <tr>\n",
       "      <th>17104</th>\n",
       "      <td>NaN</td>\n",
       "      <td>NaN</td>\n",
       "    </tr>\n",
       "    <tr>\n",
       "      <th>17105</th>\n",
       "      <td>NaN</td>\n",
       "      <td>NaN</td>\n",
       "    </tr>\n",
       "    <tr>\n",
       "      <th>17106</th>\n",
       "      <td>NaN</td>\n",
       "      <td>NaN</td>\n",
       "    </tr>\n",
       "    <tr>\n",
       "      <th>17107</th>\n",
       "      <td>6.0</td>\n",
       "      <td>NaN</td>\n",
       "    </tr>\n",
       "  </tbody>\n",
       "</table>\n",
       "<p>16783 rows × 2 columns</p>\n",
       "</div>"
      ],
      "text/plain": [
       "       Marking Loaned From\n",
       "0          NaN         NaN\n",
       "1          NaN         NaN\n",
       "2          NaN         NaN\n",
       "3          NaN         NaN\n",
       "4          NaN         NaN\n",
       "...        ...         ...\n",
       "17103      5.0         NaN\n",
       "17104      NaN         NaN\n",
       "17105      NaN         NaN\n",
       "17106      NaN         NaN\n",
       "17107      6.0         NaN\n",
       "\n",
       "[16783 rows x 2 columns]"
      ]
     },
     "execution_count": 43,
     "metadata": {},
     "output_type": "execute_result"
    }
   ],
   "source": [
    "# Check existing values\n",
    "df[['Marking','Loaned From']]"
   ]
  },
  {
   "cell_type": "code",
   "execution_count": 44,
   "metadata": {},
   "outputs": [
    {
     "data": {
      "text/plain": [
       "65"
      ]
     },
     "execution_count": 44,
     "metadata": {},
     "output_type": "execute_result"
    }
   ],
   "source": [
    "# Check count of total columns in dataframe\n",
    "df.shape[1]"
   ]
  },
  {
   "cell_type": "code",
   "execution_count": 45,
   "metadata": {},
   "outputs": [],
   "source": [
    "# Drop columns\n",
    "drop_cols = ['Marking','Loaned From']\n",
    "df = df.drop(columns=drop_cols)"
   ]
  },
  {
   "cell_type": "markdown",
   "metadata": {},
   "source": [
    "#### Test"
   ]
  },
  {
   "cell_type": "code",
   "execution_count": 46,
   "metadata": {},
   "outputs": [
    {
     "name": "stdout",
     "output_type": "stream",
     "text": [
      "False\n",
      "False\n"
     ]
    }
   ],
   "source": [
    "# Check if the dropped columns exist\n",
    "deleted_cols = ['Marking','Loaned From']\n",
    "\n",
    "for check in deleted_cols:\n",
    "    print(check in df.columns)"
   ]
  },
  {
   "cell_type": "code",
   "execution_count": 47,
   "metadata": {},
   "outputs": [
    {
     "data": {
      "text/plain": [
       "63"
      ]
     },
     "execution_count": 47,
     "metadata": {},
     "output_type": "execute_result"
    }
   ],
   "source": [
    "# Check count of total columns in dataframe after dropping\n",
    "df.shape[1]"
   ]
  },
  {
   "cell_type": "code",
   "execution_count": 48,
   "metadata": {},
   "outputs": [
    {
     "name": "stdout",
     "output_type": "stream",
     "text": [
      "<class 'pandas.core.frame.DataFrame'>\n",
      "Int64Index: 16783 entries, 0 to 17107\n",
      "Data columns (total 63 columns):\n",
      " #   Column                    Non-Null Count  Dtype         \n",
      "---  ------                    --------------  -----         \n",
      " 0   ID                        16783 non-null  int64         \n",
      " 1   Name                      16783 non-null  object        \n",
      " 2   Age                       16783 non-null  int64         \n",
      " 3   Photo                     16783 non-null  object        \n",
      " 4   Nationality               16783 non-null  category      \n",
      " 5   Flag                      16783 non-null  object        \n",
      " 6   Overall                   16783 non-null  int64         \n",
      " 7   Potential                 16783 non-null  int64         \n",
      " 8   Club                      16783 non-null  object        \n",
      " 9   Club Logo                 16783 non-null  object        \n",
      " 10  Value (€)                 16783 non-null  object        \n",
      " 11  Wage (€)                  16783 non-null  object        \n",
      " 12  Special                   16783 non-null  int64         \n",
      " 13  Preferred Foot            16783 non-null  object        \n",
      " 14  International Reputation  16783 non-null  float64       \n",
      " 15  Weak Foot                 16783 non-null  float64       \n",
      " 16  Skill Moves               16783 non-null  float64       \n",
      " 17  Work Rate                 16783 non-null  category      \n",
      " 18  Body Type                 16762 non-null  object        \n",
      " 19  Real Face                 16762 non-null  object        \n",
      " 20  Position                  16783 non-null  object        \n",
      " 21  Jersey Number             16783 non-null  float64       \n",
      " 22  Joined                    15659 non-null  datetime64[ns]\n",
      " 23  Height                    16783 non-null  object        \n",
      " 24  Weight (lbs)              16783 non-null  int32         \n",
      " 25  Crossing                  16783 non-null  float64       \n",
      " 26  Finishing                 16783 non-null  float64       \n",
      " 27  HeadingAccuracy           16783 non-null  float64       \n",
      " 28  ShortPassing              16783 non-null  float64       \n",
      " 29  Volleys                   16749 non-null  float64       \n",
      " 30  Dribbling                 16783 non-null  float64       \n",
      " 31  Curve                     16749 non-null  float64       \n",
      " 32  FKAccuracy                16783 non-null  float64       \n",
      " 33  LongPassing               16783 non-null  float64       \n",
      " 34  BallControl               16783 non-null  float64       \n",
      " 35  Acceleration              16783 non-null  float64       \n",
      " 36  SprintSpeed               16783 non-null  float64       \n",
      " 37  Agility                   16749 non-null  float64       \n",
      " 38  Reactions                 16783 non-null  float64       \n",
      " 39  Balance                   16749 non-null  float64       \n",
      " 40  ShotPower                 16783 non-null  float64       \n",
      " 41  Jumping                   16749 non-null  float64       \n",
      " 42  Stamina                   16783 non-null  float64       \n",
      " 43  Strength                  16783 non-null  float64       \n",
      " 44  LongShots                 16783 non-null  float64       \n",
      " 45  Aggression                16783 non-null  float64       \n",
      " 46  Interceptions             16780 non-null  float64       \n",
      " 47  Positioning               16780 non-null  float64       \n",
      " 48  Vision                    16749 non-null  float64       \n",
      " 49  Penalties                 16783 non-null  float64       \n",
      " 50  Composure                 16511 non-null  float64       \n",
      " 51  StandingTackle            16783 non-null  float64       \n",
      " 52  SlidingTackle             16749 non-null  float64       \n",
      " 53  GKDiving                  16783 non-null  float64       \n",
      " 54  GKHandling                16783 non-null  float64       \n",
      " 55  GKKicking                 16783 non-null  float64       \n",
      " 56  GKPositioning             16783 non-null  float64       \n",
      " 57  GKReflexes                16783 non-null  float64       \n",
      " 58  Best Position             16783 non-null  object        \n",
      " 59  Best Overall Rating       16783 non-null  float64       \n",
      " 60  Release Clause (€)        16783 non-null  object        \n",
      " 61  DefensiveAwareness        15891 non-null  float64       \n",
      " 62  Contract Valid Until      16612 non-null  category      \n",
      "dtypes: category(3), datetime64[ns](1), float64(39), int32(1), int64(5), object(14)\n",
      "memory usage: 7.8+ MB\n"
     ]
    }
   ],
   "source": [
    "# Check if the dropped columns exist via a visual approach\n",
    "df.info()"
   ]
  },
  {
   "cell_type": "markdown",
   "metadata": {},
   "source": [
    "#### Issue 10 - Remove 'nan' from Monetary Fields\n",
    "#### Define\n",
    "* Remove 'nan' from monetary fields (Wage (€), Value (€), Release Clause (€))\n",
    "* Replace with 0"
   ]
  },
  {
   "cell_type": "markdown",
   "metadata": {},
   "source": [
    "#### Code"
   ]
  },
  {
   "cell_type": "code",
   "execution_count": 49,
   "metadata": {},
   "outputs": [
    {
     "data": {
      "text/plain": [
       "0"
      ]
     },
     "execution_count": 49,
     "metadata": {},
     "output_type": "execute_result"
    }
   ],
   "source": [
    "# Check for 'nan' in monetary fields\n",
    "sum(df['Wage (€)'] == 'nan')"
   ]
  },
  {
   "cell_type": "code",
   "execution_count": 50,
   "metadata": {},
   "outputs": [
    {
     "data": {
      "text/plain": [
       "0"
      ]
     },
     "execution_count": 50,
     "metadata": {},
     "output_type": "execute_result"
    }
   ],
   "source": [
    "sum(df['Value (€)'] == 'nan')"
   ]
  },
  {
   "cell_type": "code",
   "execution_count": 51,
   "metadata": {},
   "outputs": [
    {
     "data": {
      "text/plain": [
       "1304"
      ]
     },
     "execution_count": 51,
     "metadata": {},
     "output_type": "execute_result"
    }
   ],
   "source": [
    "sum(df['Release Clause (€)'] == 'nan')"
   ]
  },
  {
   "cell_type": "code",
   "execution_count": 52,
   "metadata": {},
   "outputs": [],
   "source": [
    "# Remove 'nan' values from the 'Release Clause (€)' column\n",
    "df['Release Clause (€)'] = df['Release Clause (€)'].str.replace('nan','0')"
   ]
  },
  {
   "cell_type": "markdown",
   "metadata": {},
   "source": [
    "#### Test"
   ]
  },
  {
   "cell_type": "code",
   "execution_count": 53,
   "metadata": {},
   "outputs": [
    {
     "data": {
      "text/plain": [
       "0"
      ]
     },
     "execution_count": 53,
     "metadata": {},
     "output_type": "execute_result"
    }
   ],
   "source": [
    "# Check for 'nan' values\n",
    "sum(df['Release Clause (€)'] == 'nan')"
   ]
  },
  {
   "cell_type": "code",
   "execution_count": 54,
   "metadata": {},
   "outputs": [
    {
     "data": {
      "text/plain": [
       "1304"
      ]
     },
     "execution_count": 54,
     "metadata": {},
     "output_type": "execute_result"
    }
   ],
   "source": [
    "# Check for '0' values\n",
    "sum(df['Release Clause (€)'] == '0')"
   ]
  },
  {
   "cell_type": "markdown",
   "metadata": {},
   "source": [
    "#### Tidiness\n",
    "#### Issue 1 - Create extra fields to store the different Work Rates"
   ]
  },
  {
   "cell_type": "markdown",
   "metadata": {},
   "source": [
    "#### Define\n",
    "* Create two extra fields for 'Work Rate Attacking' and 'Work Rate Defending'"
   ]
  },
  {
   "cell_type": "markdown",
   "metadata": {},
   "source": [
    "#### Code"
   ]
  },
  {
   "cell_type": "code",
   "execution_count": 55,
   "metadata": {},
   "outputs": [
    {
     "data": {
      "text/html": [
       "<div>\n",
       "<style scoped>\n",
       "    .dataframe tbody tr th:only-of-type {\n",
       "        vertical-align: middle;\n",
       "    }\n",
       "\n",
       "    .dataframe tbody tr th {\n",
       "        vertical-align: top;\n",
       "    }\n",
       "\n",
       "    .dataframe thead th {\n",
       "        text-align: right;\n",
       "    }\n",
       "</style>\n",
       "<table border=\"1\" class=\"dataframe\">\n",
       "  <thead>\n",
       "    <tr style=\"text-align: right;\">\n",
       "      <th></th>\n",
       "      <th>Name</th>\n",
       "      <th>Work Rate</th>\n",
       "    </tr>\n",
       "  </thead>\n",
       "  <tbody>\n",
       "    <tr>\n",
       "      <th>0</th>\n",
       "      <td>L. Suárez</td>\n",
       "      <td>High/Medium</td>\n",
       "    </tr>\n",
       "    <tr>\n",
       "      <th>1</th>\n",
       "      <td>K. De Bruyne</td>\n",
       "      <td>High/High</td>\n",
       "    </tr>\n",
       "    <tr>\n",
       "      <th>2</th>\n",
       "      <td>Bruno Fernandes</td>\n",
       "      <td>High/High</td>\n",
       "    </tr>\n",
       "    <tr>\n",
       "      <th>3</th>\n",
       "      <td>A. Griezmann</td>\n",
       "      <td>Medium/Medium</td>\n",
       "    </tr>\n",
       "    <tr>\n",
       "      <th>4</th>\n",
       "      <td>M. Acuña</td>\n",
       "      <td>High/High</td>\n",
       "    </tr>\n",
       "    <tr>\n",
       "      <th>...</th>\n",
       "      <td>...</td>\n",
       "      <td>...</td>\n",
       "    </tr>\n",
       "    <tr>\n",
       "      <th>17103</th>\n",
       "      <td>19 C. Miszta</td>\n",
       "      <td>Medium/Medium</td>\n",
       "    </tr>\n",
       "    <tr>\n",
       "      <th>17104</th>\n",
       "      <td>B. Voll</td>\n",
       "      <td>Medium/Medium</td>\n",
       "    </tr>\n",
       "    <tr>\n",
       "      <th>17105</th>\n",
       "      <td>T. Parker</td>\n",
       "      <td>Medium/Medium</td>\n",
       "    </tr>\n",
       "    <tr>\n",
       "      <th>17106</th>\n",
       "      <td>H. Sveijer</td>\n",
       "      <td>Medium/Medium</td>\n",
       "    </tr>\n",
       "    <tr>\n",
       "      <th>17107</th>\n",
       "      <td>19 J. Milli</td>\n",
       "      <td>Medium/Medium</td>\n",
       "    </tr>\n",
       "  </tbody>\n",
       "</table>\n",
       "<p>16783 rows × 2 columns</p>\n",
       "</div>"
      ],
      "text/plain": [
       "                   Name      Work Rate\n",
       "0             L. Suárez    High/Medium\n",
       "1          K. De Bruyne      High/High\n",
       "2       Bruno Fernandes      High/High\n",
       "3          A. Griezmann  Medium/Medium\n",
       "4              M. Acuña      High/High\n",
       "...                 ...            ...\n",
       "17103      19 C. Miszta  Medium/Medium\n",
       "17104           B. Voll  Medium/Medium\n",
       "17105         T. Parker  Medium/Medium\n",
       "17106        H. Sveijer  Medium/Medium\n",
       "17107       19 J. Milli  Medium/Medium\n",
       "\n",
       "[16783 rows x 2 columns]"
      ]
     },
     "execution_count": 55,
     "metadata": {},
     "output_type": "execute_result"
    }
   ],
   "source": [
    "# Review existing Work Rate field\n",
    "df[['Name','Work Rate']]"
   ]
  },
  {
   "cell_type": "code",
   "execution_count": 56,
   "metadata": {},
   "outputs": [
    {
     "data": {
      "text/plain": [
       "63"
      ]
     },
     "execution_count": 56,
     "metadata": {},
     "output_type": "execute_result"
    }
   ],
   "source": [
    "# Total columns in dataframe\n",
    "df.shape[1]"
   ]
  },
  {
   "cell_type": "code",
   "execution_count": 57,
   "metadata": {},
   "outputs": [],
   "source": [
    "df[['Work Rate (Attacking)', 'Work Rate (Defending)']] = df['Work Rate'].str.split('/', expand=True)"
   ]
  },
  {
   "cell_type": "markdown",
   "metadata": {},
   "source": [
    "#### Test"
   ]
  },
  {
   "cell_type": "code",
   "execution_count": 58,
   "metadata": {},
   "outputs": [
    {
     "data": {
      "text/html": [
       "<div>\n",
       "<style scoped>\n",
       "    .dataframe tbody tr th:only-of-type {\n",
       "        vertical-align: middle;\n",
       "    }\n",
       "\n",
       "    .dataframe tbody tr th {\n",
       "        vertical-align: top;\n",
       "    }\n",
       "\n",
       "    .dataframe thead th {\n",
       "        text-align: right;\n",
       "    }\n",
       "</style>\n",
       "<table border=\"1\" class=\"dataframe\">\n",
       "  <thead>\n",
       "    <tr style=\"text-align: right;\">\n",
       "      <th></th>\n",
       "      <th>Name</th>\n",
       "      <th>Work Rate</th>\n",
       "      <th>Work Rate (Attacking)</th>\n",
       "      <th>Work Rate (Defending)</th>\n",
       "    </tr>\n",
       "  </thead>\n",
       "  <tbody>\n",
       "    <tr>\n",
       "      <th>0</th>\n",
       "      <td>L. Suárez</td>\n",
       "      <td>High/Medium</td>\n",
       "      <td>High</td>\n",
       "      <td>Medium</td>\n",
       "    </tr>\n",
       "    <tr>\n",
       "      <th>1</th>\n",
       "      <td>K. De Bruyne</td>\n",
       "      <td>High/High</td>\n",
       "      <td>High</td>\n",
       "      <td>High</td>\n",
       "    </tr>\n",
       "    <tr>\n",
       "      <th>2</th>\n",
       "      <td>Bruno Fernandes</td>\n",
       "      <td>High/High</td>\n",
       "      <td>High</td>\n",
       "      <td>High</td>\n",
       "    </tr>\n",
       "    <tr>\n",
       "      <th>3</th>\n",
       "      <td>A. Griezmann</td>\n",
       "      <td>Medium/Medium</td>\n",
       "      <td>Medium</td>\n",
       "      <td>Medium</td>\n",
       "    </tr>\n",
       "    <tr>\n",
       "      <th>4</th>\n",
       "      <td>M. Acuña</td>\n",
       "      <td>High/High</td>\n",
       "      <td>High</td>\n",
       "      <td>High</td>\n",
       "    </tr>\n",
       "    <tr>\n",
       "      <th>...</th>\n",
       "      <td>...</td>\n",
       "      <td>...</td>\n",
       "      <td>...</td>\n",
       "      <td>...</td>\n",
       "    </tr>\n",
       "    <tr>\n",
       "      <th>17103</th>\n",
       "      <td>19 C. Miszta</td>\n",
       "      <td>Medium/Medium</td>\n",
       "      <td>Medium</td>\n",
       "      <td>Medium</td>\n",
       "    </tr>\n",
       "    <tr>\n",
       "      <th>17104</th>\n",
       "      <td>B. Voll</td>\n",
       "      <td>Medium/Medium</td>\n",
       "      <td>Medium</td>\n",
       "      <td>Medium</td>\n",
       "    </tr>\n",
       "    <tr>\n",
       "      <th>17105</th>\n",
       "      <td>T. Parker</td>\n",
       "      <td>Medium/Medium</td>\n",
       "      <td>Medium</td>\n",
       "      <td>Medium</td>\n",
       "    </tr>\n",
       "    <tr>\n",
       "      <th>17106</th>\n",
       "      <td>H. Sveijer</td>\n",
       "      <td>Medium/Medium</td>\n",
       "      <td>Medium</td>\n",
       "      <td>Medium</td>\n",
       "    </tr>\n",
       "    <tr>\n",
       "      <th>17107</th>\n",
       "      <td>19 J. Milli</td>\n",
       "      <td>Medium/Medium</td>\n",
       "      <td>Medium</td>\n",
       "      <td>Medium</td>\n",
       "    </tr>\n",
       "  </tbody>\n",
       "</table>\n",
       "<p>16783 rows × 4 columns</p>\n",
       "</div>"
      ],
      "text/plain": [
       "                   Name      Work Rate Work Rate (Attacking)  \\\n",
       "0             L. Suárez    High/Medium                  High   \n",
       "1          K. De Bruyne      High/High                  High   \n",
       "2       Bruno Fernandes      High/High                  High   \n",
       "3          A. Griezmann  Medium/Medium                Medium   \n",
       "4              M. Acuña      High/High                  High   \n",
       "...                 ...            ...                   ...   \n",
       "17103      19 C. Miszta  Medium/Medium                Medium   \n",
       "17104           B. Voll  Medium/Medium                Medium   \n",
       "17105         T. Parker  Medium/Medium                Medium   \n",
       "17106        H. Sveijer  Medium/Medium                Medium   \n",
       "17107       19 J. Milli  Medium/Medium                Medium   \n",
       "\n",
       "      Work Rate (Defending)  \n",
       "0                    Medium  \n",
       "1                      High  \n",
       "2                      High  \n",
       "3                    Medium  \n",
       "4                      High  \n",
       "...                     ...  \n",
       "17103                Medium  \n",
       "17104                Medium  \n",
       "17105                Medium  \n",
       "17106                Medium  \n",
       "17107                Medium  \n",
       "\n",
       "[16783 rows x 4 columns]"
      ]
     },
     "execution_count": 58,
     "metadata": {},
     "output_type": "execute_result"
    }
   ],
   "source": [
    "df[['Name','Work Rate','Work Rate (Attacking)', 'Work Rate (Defending)']]"
   ]
  },
  {
   "cell_type": "code",
   "execution_count": 59,
   "metadata": {},
   "outputs": [
    {
     "data": {
      "text/plain": [
       "65"
      ]
     },
     "execution_count": 59,
     "metadata": {},
     "output_type": "execute_result"
    }
   ],
   "source": [
    "# Total columns in dataframe\n",
    "df.shape[1]"
   ]
  },
  {
   "cell_type": "markdown",
   "metadata": {},
   "source": [
    "#### Create the Master CSV file"
   ]
  },
  {
   "cell_type": "code",
   "execution_count": 60,
   "metadata": {},
   "outputs": [
    {
     "data": {
      "text/html": [
       "<div>\n",
       "<style scoped>\n",
       "    .dataframe tbody tr th:only-of-type {\n",
       "        vertical-align: middle;\n",
       "    }\n",
       "\n",
       "    .dataframe tbody tr th {\n",
       "        vertical-align: top;\n",
       "    }\n",
       "\n",
       "    .dataframe thead th {\n",
       "        text-align: right;\n",
       "    }\n",
       "</style>\n",
       "<table border=\"1\" class=\"dataframe\">\n",
       "  <thead>\n",
       "    <tr style=\"text-align: right;\">\n",
       "      <th></th>\n",
       "      <th>ID</th>\n",
       "      <th>Name</th>\n",
       "      <th>Age</th>\n",
       "      <th>Photo</th>\n",
       "      <th>Nationality</th>\n",
       "      <th>Flag</th>\n",
       "      <th>Overall</th>\n",
       "      <th>Potential</th>\n",
       "      <th>Club</th>\n",
       "      <th>Club Logo</th>\n",
       "      <th>...</th>\n",
       "      <th>GKKicking</th>\n",
       "      <th>GKPositioning</th>\n",
       "      <th>GKReflexes</th>\n",
       "      <th>Best Position</th>\n",
       "      <th>Best Overall Rating</th>\n",
       "      <th>Release Clause (€)</th>\n",
       "      <th>DefensiveAwareness</th>\n",
       "      <th>Contract Valid Until</th>\n",
       "      <th>Work Rate (Attacking)</th>\n",
       "      <th>Work Rate (Defending)</th>\n",
       "    </tr>\n",
       "  </thead>\n",
       "  <tbody>\n",
       "    <tr>\n",
       "      <th>4209</th>\n",
       "      <td>248573</td>\n",
       "      <td>E. Dina Ebimbe</td>\n",
       "      <td>19</td>\n",
       "      <td>https://cdn.sofifa.com/players/248/573/20_60.png</td>\n",
       "      <td>France</td>\n",
       "      <td>https://cdn.sofifa.com/flags/fr.png</td>\n",
       "      <td>67</td>\n",
       "      <td>81</td>\n",
       "      <td>Dijon FCO</td>\n",
       "      <td>https://cdn.sofifa.com/teams/110569/light_30.png</td>\n",
       "      <td>...</td>\n",
       "      <td>14.0</td>\n",
       "      <td>12.0</td>\n",
       "      <td>5.0</td>\n",
       "      <td>RM</td>\n",
       "      <td>68.0</td>\n",
       "      <td>0</td>\n",
       "      <td>56.0</td>\n",
       "      <td>2021</td>\n",
       "      <td>Medium</td>\n",
       "      <td>Medium</td>\n",
       "    </tr>\n",
       "    <tr>\n",
       "      <th>4755</th>\n",
       "      <td>189961</td>\n",
       "      <td>20 V. Kadlec</td>\n",
       "      <td>27</td>\n",
       "      <td>https://cdn.sofifa.com/players/189/961/20_60.png</td>\n",
       "      <td>Czech Republic</td>\n",
       "      <td>https://cdn.sofifa.com/flags/cz.png</td>\n",
       "      <td>70</td>\n",
       "      <td>71</td>\n",
       "      <td>Sparta Praha</td>\n",
       "      <td>https://cdn.sofifa.com/teams/267/light_30.png</td>\n",
       "      <td>...</td>\n",
       "      <td>6.0</td>\n",
       "      <td>7.0</td>\n",
       "      <td>6.0</td>\n",
       "      <td>ST</td>\n",
       "      <td>70.0</td>\n",
       "      <td>4800000</td>\n",
       "      <td>25.0</td>\n",
       "      <td>2020</td>\n",
       "      <td>High</td>\n",
       "      <td>Medium</td>\n",
       "    </tr>\n",
       "    <tr>\n",
       "      <th>9805</th>\n",
       "      <td>253735</td>\n",
       "      <td>Antoñín</td>\n",
       "      <td>20</td>\n",
       "      <td>https://cdn.sofifa.com/players/253/735/20_60.png</td>\n",
       "      <td>Spain</td>\n",
       "      <td>https://cdn.sofifa.com/flags/es.png</td>\n",
       "      <td>68</td>\n",
       "      <td>77</td>\n",
       "      <td>Granada CF</td>\n",
       "      <td>https://cdn.sofifa.com/teams/110832/light_30.png</td>\n",
       "      <td>...</td>\n",
       "      <td>12.0</td>\n",
       "      <td>11.0</td>\n",
       "      <td>14.0</td>\n",
       "      <td>ST</td>\n",
       "      <td>70.0</td>\n",
       "      <td>3200000</td>\n",
       "      <td>16.0</td>\n",
       "      <td>2024</td>\n",
       "      <td>Medium</td>\n",
       "      <td>Medium</td>\n",
       "    </tr>\n",
       "    <tr>\n",
       "      <th>787</th>\n",
       "      <td>200215</td>\n",
       "      <td>S. Rode</td>\n",
       "      <td>29</td>\n",
       "      <td>https://cdn.sofifa.com/players/200/215/20_60.png</td>\n",
       "      <td>Germany</td>\n",
       "      <td>https://cdn.sofifa.com/flags/de.png</td>\n",
       "      <td>77</td>\n",
       "      <td>77</td>\n",
       "      <td>Eintracht Frankfurt</td>\n",
       "      <td>https://cdn.sofifa.com/teams/1824/light_30.png</td>\n",
       "      <td>...</td>\n",
       "      <td>14.0</td>\n",
       "      <td>7.0</td>\n",
       "      <td>11.0</td>\n",
       "      <td>CDM</td>\n",
       "      <td>77.0</td>\n",
       "      <td>12800000</td>\n",
       "      <td>78.0</td>\n",
       "      <td>2024</td>\n",
       "      <td>High</td>\n",
       "      <td>High</td>\n",
       "    </tr>\n",
       "    <tr>\n",
       "      <th>13881</th>\n",
       "      <td>250884</td>\n",
       "      <td>20 Javi Siverio</td>\n",
       "      <td>21</td>\n",
       "      <td>https://cdn.sofifa.com/players/250/884/20_60.png</td>\n",
       "      <td>Spain</td>\n",
       "      <td>https://cdn.sofifa.com/flags/es.png</td>\n",
       "      <td>62</td>\n",
       "      <td>70</td>\n",
       "      <td>Racing Santander</td>\n",
       "      <td>https://cdn.sofifa.com/teams/456/light_30.png</td>\n",
       "      <td>...</td>\n",
       "      <td>11.0</td>\n",
       "      <td>8.0</td>\n",
       "      <td>13.0</td>\n",
       "      <td>ST</td>\n",
       "      <td>63.0</td>\n",
       "      <td>NaN</td>\n",
       "      <td>16.0</td>\n",
       "      <td>2020</td>\n",
       "      <td>Medium</td>\n",
       "      <td>Medium</td>\n",
       "    </tr>\n",
       "    <tr>\n",
       "      <th>31</th>\n",
       "      <td>209331</td>\n",
       "      <td>M. Salah</td>\n",
       "      <td>28</td>\n",
       "      <td>https://cdn.sofifa.com/players/209/331/20_60.png</td>\n",
       "      <td>Egypt</td>\n",
       "      <td>https://cdn.sofifa.com/flags/eg.png</td>\n",
       "      <td>90</td>\n",
       "      <td>90</td>\n",
       "      <td>Liverpool</td>\n",
       "      <td>https://cdn.sofifa.com/teams/9/light_30.png</td>\n",
       "      <td>...</td>\n",
       "      <td>9.0</td>\n",
       "      <td>11.0</td>\n",
       "      <td>14.0</td>\n",
       "      <td>RW</td>\n",
       "      <td>90.0</td>\n",
       "      <td>144300000</td>\n",
       "      <td>38.0</td>\n",
       "      <td>2023</td>\n",
       "      <td>High</td>\n",
       "      <td>Medium</td>\n",
       "    </tr>\n",
       "    <tr>\n",
       "      <th>16175</th>\n",
       "      <td>209333</td>\n",
       "      <td>C. Maxwell</td>\n",
       "      <td>29</td>\n",
       "      <td>https://cdn.sofifa.com/players/209/333/20_60.png</td>\n",
       "      <td>Wales</td>\n",
       "      <td>https://cdn.sofifa.com/flags/gb-wls.png</td>\n",
       "      <td>67</td>\n",
       "      <td>67</td>\n",
       "      <td>Blackpool</td>\n",
       "      <td>https://cdn.sofifa.com/teams/1926/light_30.png</td>\n",
       "      <td>...</td>\n",
       "      <td>68.0</td>\n",
       "      <td>65.0</td>\n",
       "      <td>69.0</td>\n",
       "      <td>GK</td>\n",
       "      <td>67.0</td>\n",
       "      <td>NaN</td>\n",
       "      <td>14.0</td>\n",
       "      <td>2022</td>\n",
       "      <td>Medium</td>\n",
       "      <td>Medium</td>\n",
       "    </tr>\n",
       "    <tr>\n",
       "      <th>6503</th>\n",
       "      <td>212955</td>\n",
       "      <td>19 Jorginho</td>\n",
       "      <td>27</td>\n",
       "      <td>https://cdn.sofifa.com/players/212/955/19_60.png</td>\n",
       "      <td>Brazil</td>\n",
       "      <td>https://cdn.sofifa.com/flags/br.png</td>\n",
       "      <td>70</td>\n",
       "      <td>70</td>\n",
       "      <td>Al Qadisiyah</td>\n",
       "      <td>https://cdn.sofifa.com/teams/112391/light_30.png</td>\n",
       "      <td>...</td>\n",
       "      <td>9.0</td>\n",
       "      <td>8.0</td>\n",
       "      <td>10.0</td>\n",
       "      <td>CAM</td>\n",
       "      <td>69.0</td>\n",
       "      <td>3100000</td>\n",
       "      <td>NaN</td>\n",
       "      <td>2023</td>\n",
       "      <td>Medium</td>\n",
       "      <td>Medium</td>\n",
       "    </tr>\n",
       "    <tr>\n",
       "      <th>9130</th>\n",
       "      <td>233075</td>\n",
       "      <td>Garrido</td>\n",
       "      <td>30</td>\n",
       "      <td>https://cdn.sofifa.com/players/233/075/20_60.png</td>\n",
       "      <td>Spain</td>\n",
       "      <td>https://cdn.sofifa.com/flags/es.png</td>\n",
       "      <td>71</td>\n",
       "      <td>71</td>\n",
       "      <td>Cádiz CF</td>\n",
       "      <td>https://cdn.sofifa.com/teams/1968/light_30.png</td>\n",
       "      <td>...</td>\n",
       "      <td>11.0</td>\n",
       "      <td>8.0</td>\n",
       "      <td>13.0</td>\n",
       "      <td>CDM</td>\n",
       "      <td>71.0</td>\n",
       "      <td>4400000</td>\n",
       "      <td>65.0</td>\n",
       "      <td>2023</td>\n",
       "      <td>Medium</td>\n",
       "      <td>High</td>\n",
       "    </tr>\n",
       "    <tr>\n",
       "      <th>4900</th>\n",
       "      <td>225998</td>\n",
       "      <td>A. McEneff</td>\n",
       "      <td>24</td>\n",
       "      <td>https://cdn.sofifa.com/players/225/998/20_60.png</td>\n",
       "      <td>Northern Ireland</td>\n",
       "      <td>https://cdn.sofifa.com/flags/gb-nir.png</td>\n",
       "      <td>64</td>\n",
       "      <td>69</td>\n",
       "      <td>Shamrock Rovers</td>\n",
       "      <td>https://cdn.sofifa.com/teams/306/light_30.png</td>\n",
       "      <td>...</td>\n",
       "      <td>10.0</td>\n",
       "      <td>8.0</td>\n",
       "      <td>11.0</td>\n",
       "      <td>CM</td>\n",
       "      <td>66.0</td>\n",
       "      <td>NaN</td>\n",
       "      <td>55.0</td>\n",
       "      <td>2020</td>\n",
       "      <td>High</td>\n",
       "      <td>High</td>\n",
       "    </tr>\n",
       "  </tbody>\n",
       "</table>\n",
       "<p>10 rows × 65 columns</p>\n",
       "</div>"
      ],
      "text/plain": [
       "           ID              Name  Age  \\\n",
       "4209   248573    E. Dina Ebimbe   19   \n",
       "4755   189961      20 V. Kadlec   27   \n",
       "9805   253735           Antoñín   20   \n",
       "787    200215           S. Rode   29   \n",
       "13881  250884   20 Javi Siverio   21   \n",
       "31     209331          M. Salah   28   \n",
       "16175  209333        C. Maxwell   29   \n",
       "6503   212955       19 Jorginho   27   \n",
       "9130   233075           Garrido   30   \n",
       "4900   225998        A. McEneff   24   \n",
       "\n",
       "                                                  Photo       Nationality  \\\n",
       "4209   https://cdn.sofifa.com/players/248/573/20_60.png            France   \n",
       "4755   https://cdn.sofifa.com/players/189/961/20_60.png    Czech Republic   \n",
       "9805   https://cdn.sofifa.com/players/253/735/20_60.png             Spain   \n",
       "787    https://cdn.sofifa.com/players/200/215/20_60.png           Germany   \n",
       "13881  https://cdn.sofifa.com/players/250/884/20_60.png             Spain   \n",
       "31     https://cdn.sofifa.com/players/209/331/20_60.png             Egypt   \n",
       "16175  https://cdn.sofifa.com/players/209/333/20_60.png             Wales   \n",
       "6503   https://cdn.sofifa.com/players/212/955/19_60.png            Brazil   \n",
       "9130   https://cdn.sofifa.com/players/233/075/20_60.png             Spain   \n",
       "4900   https://cdn.sofifa.com/players/225/998/20_60.png  Northern Ireland   \n",
       "\n",
       "                                          Flag  Overall  Potential  \\\n",
       "4209       https://cdn.sofifa.com/flags/fr.png       67         81   \n",
       "4755       https://cdn.sofifa.com/flags/cz.png       70         71   \n",
       "9805       https://cdn.sofifa.com/flags/es.png       68         77   \n",
       "787        https://cdn.sofifa.com/flags/de.png       77         77   \n",
       "13881      https://cdn.sofifa.com/flags/es.png       62         70   \n",
       "31         https://cdn.sofifa.com/flags/eg.png       90         90   \n",
       "16175  https://cdn.sofifa.com/flags/gb-wls.png       67         67   \n",
       "6503       https://cdn.sofifa.com/flags/br.png       70         70   \n",
       "9130       https://cdn.sofifa.com/flags/es.png       71         71   \n",
       "4900   https://cdn.sofifa.com/flags/gb-nir.png       64         69   \n",
       "\n",
       "                      Club                                         Club Logo  \\\n",
       "4209             Dijon FCO  https://cdn.sofifa.com/teams/110569/light_30.png   \n",
       "4755          Sparta Praha     https://cdn.sofifa.com/teams/267/light_30.png   \n",
       "9805            Granada CF  https://cdn.sofifa.com/teams/110832/light_30.png   \n",
       "787    Eintracht Frankfurt    https://cdn.sofifa.com/teams/1824/light_30.png   \n",
       "13881     Racing Santander     https://cdn.sofifa.com/teams/456/light_30.png   \n",
       "31               Liverpool       https://cdn.sofifa.com/teams/9/light_30.png   \n",
       "16175            Blackpool    https://cdn.sofifa.com/teams/1926/light_30.png   \n",
       "6503          Al Qadisiyah  https://cdn.sofifa.com/teams/112391/light_30.png   \n",
       "9130              Cádiz CF    https://cdn.sofifa.com/teams/1968/light_30.png   \n",
       "4900       Shamrock Rovers     https://cdn.sofifa.com/teams/306/light_30.png   \n",
       "\n",
       "       ... GKKicking GKPositioning  GKReflexes Best Position  \\\n",
       "4209   ...      14.0          12.0         5.0            RM   \n",
       "4755   ...       6.0           7.0         6.0            ST   \n",
       "9805   ...      12.0          11.0        14.0            ST   \n",
       "787    ...      14.0           7.0        11.0           CDM   \n",
       "13881  ...      11.0           8.0        13.0            ST   \n",
       "31     ...       9.0          11.0        14.0            RW   \n",
       "16175  ...      68.0          65.0        69.0            GK   \n",
       "6503   ...       9.0           8.0        10.0           CAM   \n",
       "9130   ...      11.0           8.0        13.0           CDM   \n",
       "4900   ...      10.0           8.0        11.0            CM   \n",
       "\n",
       "       Best Overall Rating  Release Clause (€)  DefensiveAwareness  \\\n",
       "4209                  68.0                   0                56.0   \n",
       "4755                  70.0             4800000                25.0   \n",
       "9805                  70.0             3200000                16.0   \n",
       "787                   77.0            12800000                78.0   \n",
       "13881                 63.0                 NaN                16.0   \n",
       "31                    90.0           144300000                38.0   \n",
       "16175                 67.0                 NaN                14.0   \n",
       "6503                  69.0             3100000                 NaN   \n",
       "9130                  71.0             4400000                65.0   \n",
       "4900                  66.0                 NaN                55.0   \n",
       "\n",
       "      Contract Valid Until Work Rate (Attacking) Work Rate (Defending)  \n",
       "4209                  2021                Medium                Medium  \n",
       "4755                  2020                  High                Medium  \n",
       "9805                  2024                Medium                Medium  \n",
       "787                   2024                  High                  High  \n",
       "13881                 2020                Medium                Medium  \n",
       "31                    2023                  High                Medium  \n",
       "16175                 2022                Medium                Medium  \n",
       "6503                  2023                Medium                Medium  \n",
       "9130                  2023                Medium                  High  \n",
       "4900                  2020                  High                  High  \n",
       "\n",
       "[10 rows x 65 columns]"
      ]
     },
     "execution_count": 60,
     "metadata": {},
     "output_type": "execute_result"
    }
   ],
   "source": [
    "df.to_csv(\"FIFA21_Master.csv\")\n",
    "\n",
    "# Show cleaned dataframe\n",
    "df.sample(10)"
   ]
  },
  {
   "cell_type": "markdown",
   "metadata": {},
   "source": [
    "#### Step 4 - Visualization and Insights"
   ]
  },
  {
   "cell_type": "code",
   "execution_count": 61,
   "metadata": {},
   "outputs": [],
   "source": [
    "#### TODO"
   ]
  },
  {
   "cell_type": "code",
   "execution_count": null,
   "metadata": {},
   "outputs": [],
   "source": []
  }
 ],
 "metadata": {
  "kernelspec": {
   "display_name": "Python 3",
   "language": "python",
   "name": "python3"
  },
  "language_info": {
   "codemirror_mode": {
    "name": "ipython",
    "version": 3
   },
   "file_extension": ".py",
   "mimetype": "text/x-python",
   "name": "python",
   "nbconvert_exporter": "python",
   "pygments_lexer": "ipython3",
   "version": "3.8.5"
  }
 },
 "nbformat": 4,
 "nbformat_minor": 4
}
